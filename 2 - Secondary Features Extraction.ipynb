{
 "cells": [
  {
   "cell_type": "markdown",
   "metadata": {
    "collapsed": true
   },
   "source": [
    "# Secondary Features' extraction from Primary Features"
   ]
  },
  {
   "cell_type": "markdown",
   "metadata": {},
   "source": [
    "In this code we aim to extract features for later regression of performance in assigment based on the data1 file that has all the features from student's actions between submissions."
   ]
  },
  {
   "cell_type": "code",
   "execution_count": 2,
   "metadata": {
    "collapsed": true
   },
   "outputs": [],
   "source": [
    "import pandas as pd\n",
    "import csv\n",
    "%matplotlib inline"
   ]
  },
  {
   "cell_type": "markdown",
   "metadata": {},
   "source": [
    "### 1. Loading"
   ]
  },
  {
   "cell_type": "code",
   "execution_count": 3,
   "metadata": {
    "collapsed": true
   },
   "outputs": [],
   "source": [
    "df_tr = pd.read_csv(filepath_or_buffer='OutputTable.csv', sep=',')\n",
    "df_te = pd.read_csv(filepath_or_buffer='OutputTable_test.csv', sep=',')"
   ]
  },
  {
   "cell_type": "code",
   "execution_count": 4,
   "metadata": {
    "collapsed": false
   },
   "outputs": [
    {
     "data": {
      "text/html": [
       "<div>\n",
       "<table border=\"1\" class=\"dataframe\">\n",
       "  <thead>\n",
       "    <tr style=\"text-align: right;\">\n",
       "      <th></th>\n",
       "      <th>ProblemID</th>\n",
       "      <th>SubmissionNumber</th>\n",
       "      <th>TimeSinceLast</th>\n",
       "      <th>GradeDiff</th>\n",
       "      <th>NVideoEvents</th>\n",
       "      <th>NForumEvents</th>\n",
       "      <th>AverageVideoTimeDiffs</th>\n",
       "      <th>ForumActivity</th>\n",
       "      <th>DifferentVideos</th>\n",
       "      <th>NumberOfUpvotes</th>\n",
       "      <th>DurationOfVideoActivity</th>\n",
       "      <th>NumberOfThreadViews</th>\n",
       "      <th>uniqRowID_1</th>\n",
       "      <th>uniqRowID_2</th>\n",
       "      <th>Diff_Prob_Ini</th>\n",
       "      <th>Diff_Prob_Fin</th>\n",
       "      <th>Exp_Prob_GradeDiff</th>\n",
       "      <th>logTimeSinceLast</th>\n",
       "    </tr>\n",
       "  </thead>\n",
       "  <tbody>\n",
       "    <tr>\n",
       "      <th>0</th>\n",
       "      <td>0</td>\n",
       "      <td>1</td>\n",
       "      <td>226.0</td>\n",
       "      <td>0.0</td>\n",
       "      <td>0.0</td>\n",
       "      <td>0.0</td>\n",
       "      <td>0.0</td>\n",
       "      <td>0.0</td>\n",
       "      <td>0.0</td>\n",
       "      <td>0.0</td>\n",
       "      <td>0.0</td>\n",
       "      <td>0.0</td>\n",
       "      <td>5b8b14f8786cdb2e76c58313219eab2a_0_1</td>\n",
       "      <td>5b8b14f8786cdb2e76c58313219eab2a_0</td>\n",
       "      <td>83.973128</td>\n",
       "      <td>88.585112</td>\n",
       "      <td>8.64389</td>\n",
       "      <td>5.420535</td>\n",
       "    </tr>\n",
       "    <tr>\n",
       "      <th>1</th>\n",
       "      <td>0</td>\n",
       "      <td>2</td>\n",
       "      <td>143.0</td>\n",
       "      <td>0.0</td>\n",
       "      <td>0.0</td>\n",
       "      <td>0.0</td>\n",
       "      <td>0.0</td>\n",
       "      <td>0.0</td>\n",
       "      <td>0.0</td>\n",
       "      <td>0.0</td>\n",
       "      <td>0.0</td>\n",
       "      <td>0.0</td>\n",
       "      <td>5b8b14f8786cdb2e76c58313219eab2a_0_2</td>\n",
       "      <td>5b8b14f8786cdb2e76c58313219eab2a_0</td>\n",
       "      <td>83.973128</td>\n",
       "      <td>88.585112</td>\n",
       "      <td>8.64389</td>\n",
       "      <td>4.962845</td>\n",
       "    </tr>\n",
       "    <tr>\n",
       "      <th>2</th>\n",
       "      <td>0</td>\n",
       "      <td>1</td>\n",
       "      <td>339.0</td>\n",
       "      <td>0.0</td>\n",
       "      <td>0.0</td>\n",
       "      <td>0.0</td>\n",
       "      <td>0.0</td>\n",
       "      <td>0.0</td>\n",
       "      <td>0.0</td>\n",
       "      <td>0.0</td>\n",
       "      <td>0.0</td>\n",
       "      <td>0.0</td>\n",
       "      <td>f458d6460e49ea8fddd02502a554d9f4_0_1</td>\n",
       "      <td>f458d6460e49ea8fddd02502a554d9f4_0</td>\n",
       "      <td>83.973128</td>\n",
       "      <td>88.585112</td>\n",
       "      <td>8.64389</td>\n",
       "      <td>5.826000</td>\n",
       "    </tr>\n",
       "    <tr>\n",
       "      <th>3</th>\n",
       "      <td>0</td>\n",
       "      <td>1</td>\n",
       "      <td>258540.0</td>\n",
       "      <td>0.0</td>\n",
       "      <td>0.0</td>\n",
       "      <td>0.0</td>\n",
       "      <td>0.0</td>\n",
       "      <td>0.0</td>\n",
       "      <td>0.0</td>\n",
       "      <td>0.0</td>\n",
       "      <td>0.0</td>\n",
       "      <td>0.0</td>\n",
       "      <td>1f3cf1cc6de39a680480ad36534f5cab_0_1</td>\n",
       "      <td>1f3cf1cc6de39a680480ad36534f5cab_0</td>\n",
       "      <td>83.973128</td>\n",
       "      <td>88.585112</td>\n",
       "      <td>8.64389</td>\n",
       "      <td>12.462806</td>\n",
       "    </tr>\n",
       "    <tr>\n",
       "      <th>4</th>\n",
       "      <td>0</td>\n",
       "      <td>2</td>\n",
       "      <td>267.0</td>\n",
       "      <td>0.0</td>\n",
       "      <td>0.0</td>\n",
       "      <td>0.0</td>\n",
       "      <td>0.0</td>\n",
       "      <td>0.0</td>\n",
       "      <td>0.0</td>\n",
       "      <td>0.0</td>\n",
       "      <td>0.0</td>\n",
       "      <td>0.0</td>\n",
       "      <td>1f3cf1cc6de39a680480ad36534f5cab_0_2</td>\n",
       "      <td>1f3cf1cc6de39a680480ad36534f5cab_0</td>\n",
       "      <td>83.973128</td>\n",
       "      <td>88.585112</td>\n",
       "      <td>8.64389</td>\n",
       "      <td>5.587249</td>\n",
       "    </tr>\n",
       "  </tbody>\n",
       "</table>\n",
       "</div>"
      ],
      "text/plain": [
       "   ProblemID  SubmissionNumber  TimeSinceLast  GradeDiff  NVideoEvents  \\\n",
       "0          0                 1          226.0        0.0           0.0   \n",
       "1          0                 2          143.0        0.0           0.0   \n",
       "2          0                 1          339.0        0.0           0.0   \n",
       "3          0                 1       258540.0        0.0           0.0   \n",
       "4          0                 2          267.0        0.0           0.0   \n",
       "\n",
       "   NForumEvents  AverageVideoTimeDiffs  ForumActivity  DifferentVideos  \\\n",
       "0           0.0                    0.0            0.0              0.0   \n",
       "1           0.0                    0.0            0.0              0.0   \n",
       "2           0.0                    0.0            0.0              0.0   \n",
       "3           0.0                    0.0            0.0              0.0   \n",
       "4           0.0                    0.0            0.0              0.0   \n",
       "\n",
       "   NumberOfUpvotes  DurationOfVideoActivity  NumberOfThreadViews  \\\n",
       "0              0.0                      0.0                  0.0   \n",
       "1              0.0                      0.0                  0.0   \n",
       "2              0.0                      0.0                  0.0   \n",
       "3              0.0                      0.0                  0.0   \n",
       "4              0.0                      0.0                  0.0   \n",
       "\n",
       "                            uniqRowID_1                         uniqRowID_2  \\\n",
       "0  5b8b14f8786cdb2e76c58313219eab2a_0_1  5b8b14f8786cdb2e76c58313219eab2a_0   \n",
       "1  5b8b14f8786cdb2e76c58313219eab2a_0_2  5b8b14f8786cdb2e76c58313219eab2a_0   \n",
       "2  f458d6460e49ea8fddd02502a554d9f4_0_1  f458d6460e49ea8fddd02502a554d9f4_0   \n",
       "3  1f3cf1cc6de39a680480ad36534f5cab_0_1  1f3cf1cc6de39a680480ad36534f5cab_0   \n",
       "4  1f3cf1cc6de39a680480ad36534f5cab_0_2  1f3cf1cc6de39a680480ad36534f5cab_0   \n",
       "\n",
       "   Diff_Prob_Ini  Diff_Prob_Fin  Exp_Prob_GradeDiff  logTimeSinceLast  \n",
       "0      83.973128      88.585112             8.64389          5.420535  \n",
       "1      83.973128      88.585112             8.64389          4.962845  \n",
       "2      83.973128      88.585112             8.64389          5.826000  \n",
       "3      83.973128      88.585112             8.64389         12.462806  \n",
       "4      83.973128      88.585112             8.64389          5.587249  "
      ]
     },
     "execution_count": 4,
     "metadata": {},
     "output_type": "execute_result"
    }
   ],
   "source": [
    "df_te.head()"
   ]
  },
  {
   "cell_type": "code",
   "execution_count": 5,
   "metadata": {
    "collapsed": false
   },
   "outputs": [],
   "source": [
    "df_te.dropna(how='any',axis=0,inplace=True)"
   ]
  },
  {
   "cell_type": "markdown",
   "metadata": {},
   "source": [
    "### 2. Split - Aggregation"
   ]
  },
  {
   "cell_type": "markdown",
   "metadata": {},
   "source": [
    "To facilitate the grouping per student per problem (our composite index) we will split the dataframe in three. Those features that we will simply add up, and those which we need to keep only one instance of (last and first), like the case of the submission number, for which we well now preserve only the last, changing it's meaning to \"number of submissions\". We also carry around the index for merging later."
   ]
  },
  {
   "cell_type": "code",
   "execution_count": 6,
   "metadata": {
    "collapsed": false
   },
   "outputs": [],
   "source": [
    "#Non-summables-last\n",
    "df_tr_keeplast = df_tr.loc[:,['uniqRowID_2','ProblemID','SubmissionNumber','Diff_Prob_Ini','Diff_Prob_Fin','Exp_Prob_GradeDiff']]\n",
    "df_te_keeplast = df_te.loc[:,['uniqRowID_2','ProblemID','SubmissionNumber','Diff_Prob_Ini','Diff_Prob_Fin','Exp_Prob_GradeDiff']]\n",
    "\n",
    "#Summables\n",
    "df_tr_summable = df_tr.loc[:,['uniqRowID_2','logTimeSinceLast', 'NVideoEvents',\n",
    "       'NForumEvents', 'NumberOfUpvotes','ForumActivity', 'NumberOfThreadViews',\n",
    "       'DurationOfVideoActivity','GradeDiff']]\n",
    "df_te_summable = df_te.loc[:,['uniqRowID_2','logTimeSinceLast', 'NVideoEvents',\n",
    "       'NForumEvents', 'NumberOfUpvotes','ForumActivity', 'NumberOfThreadViews',\n",
    "       'DurationOfVideoActivity']]"
   ]
  },
  {
   "cell_type": "code",
   "execution_count": 7,
   "metadata": {
    "collapsed": true
   },
   "outputs": [],
   "source": [
    "#Simplification\n",
    "df_g_tr_keeplast = df_tr_keeplast.drop_duplicates(subset='uniqRowID_2', keep='last').set_index('uniqRowID_2')\n",
    "df_g_te_keeplast = df_te_keeplast.drop_duplicates(subset='uniqRowID_2', keep='last').set_index('uniqRowID_2')\n",
    "\n",
    "df_g_tr_summable = df_tr_summable.groupby('uniqRowID_2').sum()\n",
    "df_g_te_summable = df_te_summable.groupby('uniqRowID_2').sum()"
   ]
  },
  {
   "cell_type": "code",
   "execution_count": 8,
   "metadata": {
    "collapsed": false
   },
   "outputs": [],
   "source": [
    "#Aggregation\n",
    "df_g_tr = pd.concat([df_g_tr_keeplast, df_g_tr_summable], axis=1)\n",
    "df_g_te = pd.concat([df_g_te_keeplast, df_g_te_summable], axis=1)"
   ]
  },
  {
   "cell_type": "code",
   "execution_count": 9,
   "metadata": {
    "collapsed": false
   },
   "outputs": [
    {
     "data": {
      "text/html": [
       "<div>\n",
       "<table border=\"1\" class=\"dataframe\">\n",
       "  <thead>\n",
       "    <tr style=\"text-align: right;\">\n",
       "      <th></th>\n",
       "      <th>ProblemID</th>\n",
       "      <th>NSubmissions</th>\n",
       "      <th>Diff_Prob_Ini</th>\n",
       "      <th>Diff_Prob_Fin</th>\n",
       "      <th>Exp_Prob_GradeDiff</th>\n",
       "      <th>logTimeSinceFirst</th>\n",
       "      <th>NVideoEvents</th>\n",
       "      <th>NForumEvents</th>\n",
       "      <th>NumberOfUpvotes</th>\n",
       "      <th>ForumActivity</th>\n",
       "      <th>NumberOfThreadViews</th>\n",
       "      <th>DurationOfVideoActivity</th>\n",
       "      <th>Exp_Prob_Perf</th>\n",
       "    </tr>\n",
       "  </thead>\n",
       "  <tbody>\n",
       "    <tr>\n",
       "      <th>000143a7618ac9cae91b0bf7d059c1fd_4</th>\n",
       "      <td>4</td>\n",
       "      <td>2</td>\n",
       "      <td>40.927461</td>\n",
       "      <td>87.606218</td>\n",
       "      <td>12.247145</td>\n",
       "      <td>10.418853</td>\n",
       "      <td>0.0</td>\n",
       "      <td>0.0</td>\n",
       "      <td>0.0</td>\n",
       "      <td>0.0</td>\n",
       "      <td>0.0</td>\n",
       "      <td>0.0</td>\n",
       "      <td>24.494290</td>\n",
       "    </tr>\n",
       "    <tr>\n",
       "      <th>000143a7618ac9cae91b0bf7d059c1fd_5</th>\n",
       "      <td>5</td>\n",
       "      <td>13</td>\n",
       "      <td>49.257932</td>\n",
       "      <td>85.833001</td>\n",
       "      <td>9.146499</td>\n",
       "      <td>70.016082</td>\n",
       "      <td>0.0</td>\n",
       "      <td>0.0</td>\n",
       "      <td>0.0</td>\n",
       "      <td>0.0</td>\n",
       "      <td>0.0</td>\n",
       "      <td>0.0</td>\n",
       "      <td>118.904492</td>\n",
       "    </tr>\n",
       "    <tr>\n",
       "      <th>000143a7618ac9cae91b0bf7d059c1fd_6</th>\n",
       "      <td>6</td>\n",
       "      <td>2</td>\n",
       "      <td>73.817374</td>\n",
       "      <td>79.443807</td>\n",
       "      <td>7.666016</td>\n",
       "      <td>13.563180</td>\n",
       "      <td>0.0</td>\n",
       "      <td>0.0</td>\n",
       "      <td>0.0</td>\n",
       "      <td>0.0</td>\n",
       "      <td>0.0</td>\n",
       "      <td>0.0</td>\n",
       "      <td>15.332031</td>\n",
       "    </tr>\n",
       "    <tr>\n",
       "      <th>000143a7618ac9cae91b0bf7d059c1fd_7</th>\n",
       "      <td>7</td>\n",
       "      <td>2</td>\n",
       "      <td>48.199768</td>\n",
       "      <td>94.878049</td>\n",
       "      <td>15.135576</td>\n",
       "      <td>12.056760</td>\n",
       "      <td>0.0</td>\n",
       "      <td>0.0</td>\n",
       "      <td>0.0</td>\n",
       "      <td>0.0</td>\n",
       "      <td>0.0</td>\n",
       "      <td>0.0</td>\n",
       "      <td>30.271152</td>\n",
       "    </tr>\n",
       "    <tr>\n",
       "      <th>0019bbc70f71e4620273237a1e99bfde_1</th>\n",
       "      <td>1</td>\n",
       "      <td>2</td>\n",
       "      <td>54.034810</td>\n",
       "      <td>80.551160</td>\n",
       "      <td>12.695707</td>\n",
       "      <td>22.519414</td>\n",
       "      <td>196.0</td>\n",
       "      <td>0.0</td>\n",
       "      <td>0.0</td>\n",
       "      <td>0.0</td>\n",
       "      <td>0.0</td>\n",
       "      <td>977978.0</td>\n",
       "      <td>25.391414</td>\n",
       "    </tr>\n",
       "    <tr>\n",
       "      <th>0019bbc70f71e4620273237a1e99bfde_11</th>\n",
       "      <td>11</td>\n",
       "      <td>6</td>\n",
       "      <td>49.730917</td>\n",
       "      <td>93.739703</td>\n",
       "      <td>7.738509</td>\n",
       "      <td>35.190261</td>\n",
       "      <td>0.0</td>\n",
       "      <td>0.0</td>\n",
       "      <td>0.0</td>\n",
       "      <td>0.0</td>\n",
       "      <td>0.0</td>\n",
       "      <td>0.0</td>\n",
       "      <td>46.431054</td>\n",
       "    </tr>\n",
       "    <tr>\n",
       "      <th>0019bbc70f71e4620273237a1e99bfde_2</th>\n",
       "      <td>2</td>\n",
       "      <td>2</td>\n",
       "      <td>51.463068</td>\n",
       "      <td>78.191288</td>\n",
       "      <td>12.488938</td>\n",
       "      <td>22.521657</td>\n",
       "      <td>196.0</td>\n",
       "      <td>0.0</td>\n",
       "      <td>0.0</td>\n",
       "      <td>0.0</td>\n",
       "      <td>0.0</td>\n",
       "      <td>977978.0</td>\n",
       "      <td>24.977876</td>\n",
       "    </tr>\n",
       "    <tr>\n",
       "      <th>0019bbc70f71e4620273237a1e99bfde_4</th>\n",
       "      <td>4</td>\n",
       "      <td>5</td>\n",
       "      <td>40.927461</td>\n",
       "      <td>87.606218</td>\n",
       "      <td>12.247145</td>\n",
       "      <td>30.218988</td>\n",
       "      <td>0.0</td>\n",
       "      <td>0.0</td>\n",
       "      <td>0.0</td>\n",
       "      <td>0.0</td>\n",
       "      <td>0.0</td>\n",
       "      <td>0.0</td>\n",
       "      <td>61.235726</td>\n",
       "    </tr>\n",
       "    <tr>\n",
       "      <th>0019bbc70f71e4620273237a1e99bfde_5</th>\n",
       "      <td>5</td>\n",
       "      <td>2</td>\n",
       "      <td>49.257932</td>\n",
       "      <td>85.833001</td>\n",
       "      <td>9.146499</td>\n",
       "      <td>13.273194</td>\n",
       "      <td>0.0</td>\n",
       "      <td>0.0</td>\n",
       "      <td>0.0</td>\n",
       "      <td>0.0</td>\n",
       "      <td>0.0</td>\n",
       "      <td>0.0</td>\n",
       "      <td>18.292999</td>\n",
       "    </tr>\n",
       "    <tr>\n",
       "      <th>0019bbc70f71e4620273237a1e99bfde_9</th>\n",
       "      <td>9</td>\n",
       "      <td>1</td>\n",
       "      <td>63.011811</td>\n",
       "      <td>95.271654</td>\n",
       "      <td>8.891059</td>\n",
       "      <td>5.493061</td>\n",
       "      <td>0.0</td>\n",
       "      <td>0.0</td>\n",
       "      <td>0.0</td>\n",
       "      <td>0.0</td>\n",
       "      <td>0.0</td>\n",
       "      <td>0.0</td>\n",
       "      <td>8.891059</td>\n",
       "    </tr>\n",
       "  </tbody>\n",
       "</table>\n",
       "</div>"
      ],
      "text/plain": [
       "                                     ProblemID  NSubmissions  Diff_Prob_Ini  \\\n",
       "000143a7618ac9cae91b0bf7d059c1fd_4           4             2      40.927461   \n",
       "000143a7618ac9cae91b0bf7d059c1fd_5           5            13      49.257932   \n",
       "000143a7618ac9cae91b0bf7d059c1fd_6           6             2      73.817374   \n",
       "000143a7618ac9cae91b0bf7d059c1fd_7           7             2      48.199768   \n",
       "0019bbc70f71e4620273237a1e99bfde_1           1             2      54.034810   \n",
       "0019bbc70f71e4620273237a1e99bfde_11         11             6      49.730917   \n",
       "0019bbc70f71e4620273237a1e99bfde_2           2             2      51.463068   \n",
       "0019bbc70f71e4620273237a1e99bfde_4           4             5      40.927461   \n",
       "0019bbc70f71e4620273237a1e99bfde_5           5             2      49.257932   \n",
       "0019bbc70f71e4620273237a1e99bfde_9           9             1      63.011811   \n",
       "\n",
       "                                     Diff_Prob_Fin  Exp_Prob_GradeDiff  \\\n",
       "000143a7618ac9cae91b0bf7d059c1fd_4       87.606218           12.247145   \n",
       "000143a7618ac9cae91b0bf7d059c1fd_5       85.833001            9.146499   \n",
       "000143a7618ac9cae91b0bf7d059c1fd_6       79.443807            7.666016   \n",
       "000143a7618ac9cae91b0bf7d059c1fd_7       94.878049           15.135576   \n",
       "0019bbc70f71e4620273237a1e99bfde_1       80.551160           12.695707   \n",
       "0019bbc70f71e4620273237a1e99bfde_11      93.739703            7.738509   \n",
       "0019bbc70f71e4620273237a1e99bfde_2       78.191288           12.488938   \n",
       "0019bbc70f71e4620273237a1e99bfde_4       87.606218           12.247145   \n",
       "0019bbc70f71e4620273237a1e99bfde_5       85.833001            9.146499   \n",
       "0019bbc70f71e4620273237a1e99bfde_9       95.271654            8.891059   \n",
       "\n",
       "                                     logTimeSinceFirst  NVideoEvents  \\\n",
       "000143a7618ac9cae91b0bf7d059c1fd_4           10.418853           0.0   \n",
       "000143a7618ac9cae91b0bf7d059c1fd_5           70.016082           0.0   \n",
       "000143a7618ac9cae91b0bf7d059c1fd_6           13.563180           0.0   \n",
       "000143a7618ac9cae91b0bf7d059c1fd_7           12.056760           0.0   \n",
       "0019bbc70f71e4620273237a1e99bfde_1           22.519414         196.0   \n",
       "0019bbc70f71e4620273237a1e99bfde_11          35.190261           0.0   \n",
       "0019bbc70f71e4620273237a1e99bfde_2           22.521657         196.0   \n",
       "0019bbc70f71e4620273237a1e99bfde_4           30.218988           0.0   \n",
       "0019bbc70f71e4620273237a1e99bfde_5           13.273194           0.0   \n",
       "0019bbc70f71e4620273237a1e99bfde_9            5.493061           0.0   \n",
       "\n",
       "                                     NForumEvents  NumberOfUpvotes  \\\n",
       "000143a7618ac9cae91b0bf7d059c1fd_4            0.0              0.0   \n",
       "000143a7618ac9cae91b0bf7d059c1fd_5            0.0              0.0   \n",
       "000143a7618ac9cae91b0bf7d059c1fd_6            0.0              0.0   \n",
       "000143a7618ac9cae91b0bf7d059c1fd_7            0.0              0.0   \n",
       "0019bbc70f71e4620273237a1e99bfde_1            0.0              0.0   \n",
       "0019bbc70f71e4620273237a1e99bfde_11           0.0              0.0   \n",
       "0019bbc70f71e4620273237a1e99bfde_2            0.0              0.0   \n",
       "0019bbc70f71e4620273237a1e99bfde_4            0.0              0.0   \n",
       "0019bbc70f71e4620273237a1e99bfde_5            0.0              0.0   \n",
       "0019bbc70f71e4620273237a1e99bfde_9            0.0              0.0   \n",
       "\n",
       "                                     ForumActivity  NumberOfThreadViews  \\\n",
       "000143a7618ac9cae91b0bf7d059c1fd_4             0.0                  0.0   \n",
       "000143a7618ac9cae91b0bf7d059c1fd_5             0.0                  0.0   \n",
       "000143a7618ac9cae91b0bf7d059c1fd_6             0.0                  0.0   \n",
       "000143a7618ac9cae91b0bf7d059c1fd_7             0.0                  0.0   \n",
       "0019bbc70f71e4620273237a1e99bfde_1             0.0                  0.0   \n",
       "0019bbc70f71e4620273237a1e99bfde_11            0.0                  0.0   \n",
       "0019bbc70f71e4620273237a1e99bfde_2             0.0                  0.0   \n",
       "0019bbc70f71e4620273237a1e99bfde_4             0.0                  0.0   \n",
       "0019bbc70f71e4620273237a1e99bfde_5             0.0                  0.0   \n",
       "0019bbc70f71e4620273237a1e99bfde_9             0.0                  0.0   \n",
       "\n",
       "                                     DurationOfVideoActivity  Exp_Prob_Perf  \n",
       "000143a7618ac9cae91b0bf7d059c1fd_4                       0.0      24.494290  \n",
       "000143a7618ac9cae91b0bf7d059c1fd_5                       0.0     118.904492  \n",
       "000143a7618ac9cae91b0bf7d059c1fd_6                       0.0      15.332031  \n",
       "000143a7618ac9cae91b0bf7d059c1fd_7                       0.0      30.271152  \n",
       "0019bbc70f71e4620273237a1e99bfde_1                  977978.0      25.391414  \n",
       "0019bbc70f71e4620273237a1e99bfde_11                      0.0      46.431054  \n",
       "0019bbc70f71e4620273237a1e99bfde_2                  977978.0      24.977876  \n",
       "0019bbc70f71e4620273237a1e99bfde_4                       0.0      61.235726  \n",
       "0019bbc70f71e4620273237a1e99bfde_5                       0.0      18.292999  \n",
       "0019bbc70f71e4620273237a1e99bfde_9                       0.0       8.891059  "
      ]
     },
     "execution_count": 9,
     "metadata": {},
     "output_type": "execute_result"
    }
   ],
   "source": [
    "#Rename for clarity\n",
    "df_tr_final = df_g_tr.rename(columns={'SubmissionNumber':'NSubmissions','GradeDiff':'Performance','logTimeSinceLast': 'logTimeSinceFirst'})\n",
    "df_te_final = df_g_te.rename(columns={'SubmissionNumber':'NSubmissions','logTimeSinceLast': 'logTimeSinceFirst'})\n",
    "\n",
    "#Expand by combining\n",
    "df_tr_final['Exp_Prob_Perf'] = df_tr_final['Exp_Prob_GradeDiff'] * df_tr_final['NSubmissions']\n",
    "df_te_final['Exp_Prob_Perf'] = df_te_final['Exp_Prob_GradeDiff'] * df_te_final['NSubmissions']\n",
    "\n",
    "df_te_final.head(10)"
   ]
  },
  {
   "cell_type": "markdown",
   "metadata": {},
   "source": [
    "### 4. Visualization"
   ]
  },
  {
   "cell_type": "markdown",
   "metadata": {},
   "source": [
    "Visualization of some of our features can be quite telling:"
   ]
  },
  {
   "cell_type": "code",
   "execution_count": 15,
   "metadata": {
    "collapsed": false
   },
   "outputs": [
    {
     "data": {
      "text/plain": [
       "<matplotlib.axes._subplots.AxesSubplot at 0x217d3dafa90>"
      ]
     },
     "execution_count": 15,
     "metadata": {},
     "output_type": "execute_result"
    },
    {
     "data": {
      "image/png": "[encoded data removed]",
      "text/plain": [
       "<matplotlib.figure.Figure at 0x217d3da7780>"
      ]
     },
     "metadata": {},
     "output_type": "display_data"
    }
   ],
   "source": [
    "df_tr_final.logTimeSinceFirst.hist(bins=50)"
   ]
  },
  {
   "cell_type": "code",
   "execution_count": 10,
   "metadata": {
    "collapsed": false
   },
   "outputs": [
    {
     "data": {
      "text/plain": [
       "<matplotlib.axes._subplots.AxesSubplot at 0x217d2837d68>"
      ]
     },
     "execution_count": 10,
     "metadata": {},
     "output_type": "execute_result"
    },
    {
     "data": {
      "image/png": "[encoded data removed]",
      "text/plain": [
       "<matplotlib.figure.Figure at 0x217d22e0f28>"
      ]
     },
     "metadata": {},
     "output_type": "display_data"
    }
   ],
   "source": [
    "df_tr_final.NSubmissions.hist(bins=50)"
   ]
  },
  {
   "cell_type": "code",
   "execution_count": 11,
   "metadata": {
    "collapsed": false
   },
   "outputs": [
    {
     "data": {
      "text/plain": [
       "1     1442\n",
       "2      999\n",
       "3      721\n",
       "4      539\n",
       "5      446\n",
       "6      296\n",
       "7      232\n",
       "8      199\n",
       "9      127\n",
       "10     117\n",
       "11      95\n",
       "12      87\n",
       "14      71\n",
       "13      67\n",
       "15      55\n",
       "16      38\n",
       "17      35\n",
       "18      34\n",
       "19      25\n",
       "22      22\n",
       "20      19\n",
       "23      18\n",
       "Name: NSubmissions, dtype: int64"
      ]
     },
     "execution_count": 11,
     "metadata": {},
     "output_type": "execute_result"
    }
   ],
   "source": [
    "df_tr_final.NSubmissions.value_counts().head(22)"
   ]
  },
  {
   "cell_type": "markdown",
   "metadata": {},
   "source": [
    "More steady decrease than expected, but still, more people with 22 submissions than people with 21. Feels like a power-law"
   ]
  },
  {
   "cell_type": "markdown",
   "metadata": {},
   "source": [
    "Checking some other features from our customize set:"
   ]
  },
  {
   "cell_type": "code",
   "execution_count": 12,
   "metadata": {
    "collapsed": false
   },
   "outputs": [
    {
     "data": {
      "text/plain": [
       "<matplotlib.axes._subplots.AxesSubplot at 0x217d2eb96a0>"
      ]
     },
     "execution_count": 12,
     "metadata": {},
     "output_type": "execute_result"
    },
    {
     "data": {
      "image/png": "[encoded data removed]",
      "text/plain": [
       "<matplotlib.figure.Figure at 0x217d2e76550>"
      ]
     },
     "metadata": {},
     "output_type": "display_data"
    }
   ],
   "source": [
    "df_tr_final.ForumActivity.hist(bins=50)"
   ]
  },
  {
   "cell_type": "code",
   "execution_count": 13,
   "metadata": {
    "collapsed": false
   },
   "outputs": [
    {
     "data": {
      "text/plain": [
       "0.0    5343\n",
       "2.0     137\n",
       "1.0     105\n",
       "3.0      85\n",
       "4.0      48\n",
       "5.0      30\n",
       "6.0      22\n",
       "7.0      21\n",
       "8.0      14\n",
       "9.0       9\n",
       "Name: ForumActivity, dtype: int64"
      ]
     },
     "execution_count": 13,
     "metadata": {},
     "output_type": "execute_result"
    }
   ],
   "source": [
    "df_tr_final.ForumActivity.value_counts().head(10)"
   ]
  },
  {
   "cell_type": "code",
   "execution_count": 14,
   "metadata": {
    "collapsed": false
   },
   "outputs": [
    {
     "data": {
      "text/plain": [
       "count    5850.000000\n",
       "mean        0.341538\n",
       "std         1.640945\n",
       "min         0.000000\n",
       "25%         0.000000\n",
       "50%         0.000000\n",
       "75%         0.000000\n",
       "max        43.000000\n",
       "Name: ForumActivity, dtype: float64"
      ]
     },
     "execution_count": 14,
     "metadata": {},
     "output_type": "execute_result"
    }
   ],
   "source": [
    "df_tr_final.ForumActivity.describe()"
   ]
  },
  {
   "cell_type": "markdown",
   "metadata": {},
   "source": [
    "We wee that despite the agreggation step through all submissions, this feature keeps being very sparse, and thus probably not very useful for the regressor."
   ]
  },
  {
   "cell_type": "markdown",
   "metadata": {},
   "source": [
    "### 5. Save to CSV"
   ]
  },
  {
   "cell_type": "code",
   "execution_count": 30,
   "metadata": {
    "collapsed": true
   },
   "outputs": [],
   "source": [
    "df_tr_final.reset_index().to_csv(path_or_buf='secondryFeatures.csv', sep=',', index=False)\n",
    "df_te_final.reset_index().to_csv(path_or_buf='secondryFeatures_test.csv', sep=',', index=False)"
   ]
  },
  {
   "cell_type": "code",
   "execution_count": null,
   "metadata": {
    "collapsed": true
   },
   "outputs": [],
   "source": []
  },
  {
   "cell_type": "code",
   "execution_count": null,
   "metadata": {
    "collapsed": true
   },
   "outputs": [],
   "source": []
  },
  {
   "cell_type": "code",
   "execution_count": null,
   "metadata": {
    "collapsed": true
   },
   "outputs": [],
   "source": []
  }
 ],
 "metadata": {
  "anaconda-cloud": {},
  "kernelspec": {
   "display_name": "Python [conda root]",
   "language": "python",
   "name": "conda-root-py"
  },
  "language_info": {
   "codemirror_mode": {
    "name": "ipython",
    "version": 3
   },
   "file_extension": ".py",
   "mimetype": "text/x-python",
   "name": "python",
   "nbconvert_exporter": "python",
   "pygments_lexer": "ipython3",
   "version": "3.5.2"
  }
 },
 "nbformat": 4,
 "nbformat_minor": 1
}
