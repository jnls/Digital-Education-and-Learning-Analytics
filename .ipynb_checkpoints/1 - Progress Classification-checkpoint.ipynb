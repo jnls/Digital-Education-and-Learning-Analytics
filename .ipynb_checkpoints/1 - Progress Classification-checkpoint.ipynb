{
 "cells": [
  {
   "cell_type": "code",
   "execution_count": 1,
   "metadata": {
    "collapsed": true
   },
   "outputs": [],
   "source": [
    "import pandas as pd\n",
    "import numpy as np\n",
    "from scipy import stats\n",
    "\n",
    "import matplotlib.pyplot as plt\n",
    "%matplotlib inline"
   ]
  },
  {
   "cell_type": "markdown",
   "metadata": {},
   "source": [
    "# Load and prepare the data"
   ]
  },
  {
   "cell_type": "code",
   "execution_count": 16,
   "metadata": {
    "collapsed": false
   },
   "outputs": [],
   "source": [
    "#Load\n",
    "dataset = pd.DataFrame.from_csv('OutputTable.csv')\n",
    "\n",
    "#Clean\n",
    "dataset = dataset.reset_index()\n",
    "dataset = dataset.drop('uniqRowID_2', axis=1)\n",
    "dataset = dataset.set_index('uniqRowID_1')\n",
    "\n",
    "#Shuffle\n",
    "X = dataset.iloc[np.random.permutation(len(dataset))]\n",
    "\n",
    "#Separate features and labels\n",
    "Y = (X.GradeDiff > 0) * 1\n",
    "X = X.drop(['GradeDiff','TimeSinceLast'], axis=1)"
   ]
  },
  {
   "cell_type": "code",
   "execution_count": 17,
   "metadata": {
    "collapsed": false
   },
   "outputs": [
    {
     "data": {
      "text/html": [
       "<div>\n",
       "<table border=\"1\" class=\"dataframe\">\n",
       "  <thead>\n",
       "    <tr style=\"text-align: right;\">\n",
       "      <th></th>\n",
       "      <th>ProblemID</th>\n",
       "      <th>SubmissionNumber</th>\n",
       "      <th>NVideoEvents</th>\n",
       "      <th>NForumEvents</th>\n",
       "      <th>AverageVideoTimeDiffs</th>\n",
       "      <th>ForumActivity</th>\n",
       "      <th>DifferentVideos</th>\n",
       "      <th>NumberOfUpvotes</th>\n",
       "      <th>DurationOfVideoActivity</th>\n",
       "      <th>NumberOfThreadViews</th>\n",
       "      <th>Diff_Prob_Ini</th>\n",
       "      <th>Diff_Prob_Fin</th>\n",
       "      <th>Exp_Prob_GradeDiff</th>\n",
       "      <th>logTimeSinceLast</th>\n",
       "    </tr>\n",
       "    <tr>\n",
       "      <th>uniqRowID_1</th>\n",
       "      <th></th>\n",
       "      <th></th>\n",
       "      <th></th>\n",
       "      <th></th>\n",
       "      <th></th>\n",
       "      <th></th>\n",
       "      <th></th>\n",
       "      <th></th>\n",
       "      <th></th>\n",
       "      <th></th>\n",
       "      <th></th>\n",
       "      <th></th>\n",
       "      <th></th>\n",
       "      <th></th>\n",
       "    </tr>\n",
       "  </thead>\n",
       "  <tbody>\n",
       "    <tr>\n",
       "      <th>6d7e49d2eb9eccd68321d9300d750fc9_9_6</th>\n",
       "      <td>9</td>\n",
       "      <td>6</td>\n",
       "      <td>0.0</td>\n",
       "      <td>0.0</td>\n",
       "      <td>0.0</td>\n",
       "      <td>0.0</td>\n",
       "      <td>0.0</td>\n",
       "      <td>0.0</td>\n",
       "      <td>0.0</td>\n",
       "      <td>0.0</td>\n",
       "      <td>63.011811</td>\n",
       "      <td>95.271654</td>\n",
       "      <td>8.891059</td>\n",
       "      <td>11.542678</td>\n",
       "    </tr>\n",
       "    <tr>\n",
       "      <th>3f8297afddb8928a8b24946b624551e0_1_3</th>\n",
       "      <td>1</td>\n",
       "      <td>3</td>\n",
       "      <td>0.0</td>\n",
       "      <td>0.0</td>\n",
       "      <td>0.0</td>\n",
       "      <td>0.0</td>\n",
       "      <td>0.0</td>\n",
       "      <td>0.0</td>\n",
       "      <td>0.0</td>\n",
       "      <td>0.0</td>\n",
       "      <td>54.034810</td>\n",
       "      <td>80.551160</td>\n",
       "      <td>12.695707</td>\n",
       "      <td>5.676754</td>\n",
       "    </tr>\n",
       "    <tr>\n",
       "      <th>5001da5f12e9abdf1ef55b559ae7ff94_14_2</th>\n",
       "      <td>14</td>\n",
       "      <td>2</td>\n",
       "      <td>0.0</td>\n",
       "      <td>0.0</td>\n",
       "      <td>0.0</td>\n",
       "      <td>0.0</td>\n",
       "      <td>0.0</td>\n",
       "      <td>0.0</td>\n",
       "      <td>0.0</td>\n",
       "      <td>0.0</td>\n",
       "      <td>39.823853</td>\n",
       "      <td>89.807951</td>\n",
       "      <td>4.592268</td>\n",
       "      <td>5.438079</td>\n",
       "    </tr>\n",
       "    <tr>\n",
       "      <th>a790e7638e4646edb8e8745d1eb62193_14_28</th>\n",
       "      <td>14</td>\n",
       "      <td>28</td>\n",
       "      <td>0.0</td>\n",
       "      <td>0.0</td>\n",
       "      <td>0.0</td>\n",
       "      <td>0.0</td>\n",
       "      <td>0.0</td>\n",
       "      <td>0.0</td>\n",
       "      <td>0.0</td>\n",
       "      <td>0.0</td>\n",
       "      <td>39.823853</td>\n",
       "      <td>89.807951</td>\n",
       "      <td>4.592268</td>\n",
       "      <td>5.129899</td>\n",
       "    </tr>\n",
       "    <tr>\n",
       "      <th>93ae7630ad7b4a702415737d12991d29_0_2</th>\n",
       "      <td>0</td>\n",
       "      <td>2</td>\n",
       "      <td>0.0</td>\n",
       "      <td>0.0</td>\n",
       "      <td>0.0</td>\n",
       "      <td>0.0</td>\n",
       "      <td>0.0</td>\n",
       "      <td>0.0</td>\n",
       "      <td>0.0</td>\n",
       "      <td>0.0</td>\n",
       "      <td>83.973128</td>\n",
       "      <td>88.585112</td>\n",
       "      <td>8.643890</td>\n",
       "      <td>5.793014</td>\n",
       "    </tr>\n",
       "  </tbody>\n",
       "</table>\n",
       "</div>"
      ],
      "text/plain": [
       "                                        ProblemID  SubmissionNumber  \\\n",
       "uniqRowID_1                                                           \n",
       "6d7e49d2eb9eccd68321d9300d750fc9_9_6            9                 6   \n",
       "3f8297afddb8928a8b24946b624551e0_1_3            1                 3   \n",
       "5001da5f12e9abdf1ef55b559ae7ff94_14_2          14                 2   \n",
       "a790e7638e4646edb8e8745d1eb62193_14_28         14                28   \n",
       "93ae7630ad7b4a702415737d12991d29_0_2            0                 2   \n",
       "\n",
       "                                        NVideoEvents  NForumEvents  \\\n",
       "uniqRowID_1                                                          \n",
       "6d7e49d2eb9eccd68321d9300d750fc9_9_6             0.0           0.0   \n",
       "3f8297afddb8928a8b24946b624551e0_1_3             0.0           0.0   \n",
       "5001da5f12e9abdf1ef55b559ae7ff94_14_2            0.0           0.0   \n",
       "a790e7638e4646edb8e8745d1eb62193_14_28           0.0           0.0   \n",
       "93ae7630ad7b4a702415737d12991d29_0_2             0.0           0.0   \n",
       "\n",
       "                                        AverageVideoTimeDiffs  ForumActivity  \\\n",
       "uniqRowID_1                                                                    \n",
       "6d7e49d2eb9eccd68321d9300d750fc9_9_6                      0.0            0.0   \n",
       "3f8297afddb8928a8b24946b624551e0_1_3                      0.0            0.0   \n",
       "5001da5f12e9abdf1ef55b559ae7ff94_14_2                     0.0            0.0   \n",
       "a790e7638e4646edb8e8745d1eb62193_14_28                    0.0            0.0   \n",
       "93ae7630ad7b4a702415737d12991d29_0_2                      0.0            0.0   \n",
       "\n",
       "                                        DifferentVideos  NumberOfUpvotes  \\\n",
       "uniqRowID_1                                                                \n",
       "6d7e49d2eb9eccd68321d9300d750fc9_9_6                0.0              0.0   \n",
       "3f8297afddb8928a8b24946b624551e0_1_3                0.0              0.0   \n",
       "5001da5f12e9abdf1ef55b559ae7ff94_14_2               0.0              0.0   \n",
       "a790e7638e4646edb8e8745d1eb62193_14_28              0.0              0.0   \n",
       "93ae7630ad7b4a702415737d12991d29_0_2                0.0              0.0   \n",
       "\n",
       "                                        DurationOfVideoActivity  \\\n",
       "uniqRowID_1                                                       \n",
       "6d7e49d2eb9eccd68321d9300d750fc9_9_6                        0.0   \n",
       "3f8297afddb8928a8b24946b624551e0_1_3                        0.0   \n",
       "5001da5f12e9abdf1ef55b559ae7ff94_14_2                       0.0   \n",
       "a790e7638e4646edb8e8745d1eb62193_14_28                      0.0   \n",
       "93ae7630ad7b4a702415737d12991d29_0_2                        0.0   \n",
       "\n",
       "                                        NumberOfThreadViews  Diff_Prob_Ini  \\\n",
       "uniqRowID_1                                                                  \n",
       "6d7e49d2eb9eccd68321d9300d750fc9_9_6                    0.0      63.011811   \n",
       "3f8297afddb8928a8b24946b624551e0_1_3                    0.0      54.034810   \n",
       "5001da5f12e9abdf1ef55b559ae7ff94_14_2                   0.0      39.823853   \n",
       "a790e7638e4646edb8e8745d1eb62193_14_28                  0.0      39.823853   \n",
       "93ae7630ad7b4a702415737d12991d29_0_2                    0.0      83.973128   \n",
       "\n",
       "                                        Diff_Prob_Fin  Exp_Prob_GradeDiff  \\\n",
       "uniqRowID_1                                                                 \n",
       "6d7e49d2eb9eccd68321d9300d750fc9_9_6        95.271654            8.891059   \n",
       "3f8297afddb8928a8b24946b624551e0_1_3        80.551160           12.695707   \n",
       "5001da5f12e9abdf1ef55b559ae7ff94_14_2       89.807951            4.592268   \n",
       "a790e7638e4646edb8e8745d1eb62193_14_28      89.807951            4.592268   \n",
       "93ae7630ad7b4a702415737d12991d29_0_2        88.585112            8.643890   \n",
       "\n",
       "                                        logTimeSinceLast  \n",
       "uniqRowID_1                                               \n",
       "6d7e49d2eb9eccd68321d9300d750fc9_9_6           11.542678  \n",
       "3f8297afddb8928a8b24946b624551e0_1_3            5.676754  \n",
       "5001da5f12e9abdf1ef55b559ae7ff94_14_2           5.438079  \n",
       "a790e7638e4646edb8e8745d1eb62193_14_28          5.129899  \n",
       "93ae7630ad7b4a702415737d12991d29_0_2            5.793014  "
      ]
     },
     "execution_count": 17,
     "metadata": {},
     "output_type": "execute_result"
    }
   ],
   "source": [
    "X.head()"
   ]
  },
  {
   "cell_type": "code",
   "execution_count": 18,
   "metadata": {
    "collapsed": false
   },
   "outputs": [
    {
     "data": {
      "text/plain": [
       "(31985, 14)"
      ]
     },
     "execution_count": 18,
     "metadata": {},
     "output_type": "execute_result"
    }
   ],
   "source": [
    "X.shape"
   ]
  },
  {
   "cell_type": "code",
   "execution_count": 30,
   "metadata": {
    "collapsed": false
   },
   "outputs": [
    {
     "data": {
      "text/plain": [
       "Index(['ProblemID', 'SubmissionNumber', 'NVideoEvents', 'NForumEvents',\n",
       "       'AverageVideoTimeDiffs', 'ForumActivity', 'DifferentVideos',\n",
       "       'NumberOfUpvotes', 'DurationOfVideoActivity', 'NumberOfThreadViews',\n",
       "       'Diff_Prob_Ini', 'Diff_Prob_Fin', 'Exp_Prob_GradeDiff',\n",
       "       'logTimeSinceLast'],\n",
       "      dtype='object')"
      ]
     },
     "execution_count": 30,
     "metadata": {},
     "output_type": "execute_result"
    }
   ],
   "source": [
    "X.columns"
   ]
  },
  {
   "cell_type": "code",
   "execution_count": 19,
   "metadata": {
    "collapsed": false
   },
   "outputs": [
    {
     "data": {
      "text/plain": [
       "0    17924\n",
       "1    14061\n",
       "Name: GradeDiff, dtype: int64"
      ]
     },
     "execution_count": 19,
     "metadata": {},
     "output_type": "execute_result"
    }
   ],
   "source": [
    "Y.value_counts()#.plot(kind = 'bar')"
   ]
  },
  {
   "cell_type": "markdown",
   "metadata": {},
   "source": [
    "Almost balanced classes"
   ]
  },
  {
   "cell_type": "markdown",
   "metadata": {},
   "source": [
    "# Machine Learning"
   ]
  },
  {
   "cell_type": "code",
   "execution_count": 20,
   "metadata": {
    "collapsed": true
   },
   "outputs": [],
   "source": [
    "from sklearn.metrics import confusion_matrix\n",
    "from sklearn.model_selection import cross_val_score\n",
    "from sklearn.model_selection import cross_val_predict\n",
    "from sklearn.model_selection import GridSearchCV\n",
    "from sklearn.model_selection import learning_curve\n",
    "from sklearn.preprocessing import minmax_scale\n",
    "from sklearn.metrics import roc_auc_score"
   ]
  },
  {
   "cell_type": "markdown",
   "metadata": {},
   "source": [
    "## 1. Random Forest"
   ]
  },
  {
   "cell_type": "code",
   "execution_count": 21,
   "metadata": {
    "collapsed": true
   },
   "outputs": [],
   "source": [
    "from sklearn.ensemble import RandomForestClassifier"
   ]
  },
  {
   "cell_type": "code",
   "execution_count": 22,
   "metadata": {
    "collapsed": false
   },
   "outputs": [],
   "source": [
    "#Initialization:\n",
    "rf = RandomForestClassifier(n_estimators=500, max_depth=7)#, class_weight='balanced')\n",
    "\n",
    "#Y_predicted = cross_val_predict(rf, X, Y, cv=10)\n",
    "#confusion_matrix(y_true=Y, y_pred=Y_predicted)"
   ]
  },
  {
   "cell_type": "code",
   "execution_count": 23,
   "metadata": {
    "collapsed": false
   },
   "outputs": [
    {
     "name": "stdout",
     "output_type": "stream",
     "text": [
      "0.64444097935\n",
      "7.14597816345e-05\n"
     ]
    }
   ],
   "source": [
    "scores = cross_val_score(rf, X, Y, scoring='roc_auc', cv=10)\n",
    "\n",
    "mean_score = np.mean(scores)\n",
    "print(mean_score)\n",
    "var_score = np.var(scores)\n",
    "print(var_score)"
   ]
  },
  {
   "cell_type": "code",
   "execution_count": 24,
   "metadata": {
    "collapsed": false
   },
   "outputs": [
    {
     "data": {
      "image/png": "[encoded data removed]",
      "text/plain": [
       "<matplotlib.figure.Figure at 0x1879015d048>"
      ]
     },
     "metadata": {},
     "output_type": "display_data"
    }
   ],
   "source": [
    "#Feature Importance\n",
    "\n",
    "rf.fit(X,Y)\n",
    "importances = rf.feature_importances_\n",
    "std = np.std([tree.feature_importances_ for tree in rf.estimators_],axis=0)\n",
    "indices = np.argsort(importances)[::-1]\n",
    "\n",
    "\n",
    "# Plot the feature importances of the forest\n",
    "f = np.asarray(X.columns.tolist())\n",
    "\n",
    "plt.figure()\n",
    "plt.title(\"Feature importances\")\n",
    "plt.bar(range(X.shape[1]), importances[indices], color=\"r\", yerr=std[indices], align=\"center\")\n",
    "plt.xticks(range(X.shape[1]), indices)\n",
    "plt.xlim([-1, X.shape[1]])\n",
    "fig = plt.gcf()\n",
    "fig.set_size_inches(16, 9)\n",
    "plt.show()"
   ]
  },
  {
   "cell_type": "code",
   "execution_count": 32,
   "metadata": {
    "collapsed": false
   },
   "outputs": [
    {
     "data": {
      "text/plain": [
       "array(['SubmissionNumber', 'logTimeSinceLast', 'Diff_Prob_Ini',\n",
       "       'NForumEvents', 'NumberOfThreadViews', 'ProblemID',\n",
       "       'Exp_Prob_GradeDiff', 'Diff_Prob_Fin', 'DurationOfVideoActivity',\n",
       "       'NVideoEvents', 'AverageVideoTimeDiffs', 'DifferentVideos',\n",
       "       'ForumActivity', 'NumberOfUpvotes'], \n",
       "      dtype='<U23')"
      ]
     },
     "execution_count": 32,
     "metadata": {},
     "output_type": "execute_result"
    }
   ],
   "source": [
    "f[[indices]]"
   ]
  },
  {
   "cell_type": "markdown",
   "metadata": {},
   "source": [
    "## 2.Neural Networks"
   ]
  },
  {
   "cell_type": "code",
   "execution_count": 33,
   "metadata": {
    "collapsed": true
   },
   "outputs": [],
   "source": [
    "from sklearn.neural_network import MLPClassifier"
   ]
  },
  {
   "cell_type": "code",
   "execution_count": 34,
   "metadata": {
    "collapsed": false
   },
   "outputs": [],
   "source": [
    "#Initialization:\n",
    "nn = MLPClassifier(activation='logistic',hidden_layer_sizes=(1000,100))"
   ]
  },
  {
   "cell_type": "code",
   "execution_count": 35,
   "metadata": {
    "collapsed": false
   },
   "outputs": [
    {
     "name": "stdout",
     "output_type": "stream",
     "text": [
      "0.630144870492\n",
      "6.08263923083e-05\n"
     ]
    }
   ],
   "source": [
    "scores = cross_val_score(nn, X, Y, scoring='roc_auc', cv=5)\n",
    "mean_score = np.mean(scores)\n",
    "print(mean_score)\n",
    "var_score = np.var(scores)\n",
    "print(var_score)"
   ]
  },
  {
   "cell_type": "code",
   "execution_count": null,
   "metadata": {
    "collapsed": true
   },
   "outputs": [],
   "source": []
  },
  {
   "cell_type": "code",
   "execution_count": null,
   "metadata": {
    "collapsed": false
   },
   "outputs": [],
   "source": [
    "# #Balancing classes -> No improvement\n",
    "# X['label'] = Y\n",
    "# X0 = X.query('label==0')\n",
    "# X1 = X.query('label==1')\n",
    "# X = X.drop('label',axis=1)\n",
    "# X_b = pd.concat([X1.ix[0:14000,:],X0.ix[0:14000,:]])\n",
    "# X_b.iloc[np.random.permutation(len(X_b))]\n",
    "# Y_b = X_b.label\n",
    "# X_b = X_b.drop('label',axis=1)\n",
    "\n",
    "# scores = cross_val_score(nn, X_b, Y_b, scoring='roc_auc', cv=5)\n",
    "# mean_score = np.mean(scores)\n",
    "# print(mean_score)\n",
    "# var_score = np.var(scores)\n",
    "# print(var_score)"
   ]
  },
  {
   "cell_type": "code",
   "execution_count": null,
   "metadata": {
    "collapsed": true
   },
   "outputs": [],
   "source": []
  },
  {
   "cell_type": "code",
   "execution_count": 36,
   "metadata": {
    "collapsed": true
   },
   "outputs": [],
   "source": [
    "#Initialization:\n",
    "nn = MLPClassifier(activation='logistic',hidden_layer_sizes=(200,40,10))"
   ]
  },
  {
   "cell_type": "code",
   "execution_count": 37,
   "metadata": {
    "collapsed": false
   },
   "outputs": [
    {
     "name": "stdout",
     "output_type": "stream",
     "text": [
      "0.631296602599\n",
      "5.50494273295e-05\n"
     ]
    }
   ],
   "source": [
    "scores = cross_val_score(nn, X, Y, scoring='roc_auc', cv=5)\n",
    "mean_score = np.mean(scores)\n",
    "print(mean_score)\n",
    "var_score = np.var(scores)\n",
    "print(var_score)"
   ]
  },
  {
   "cell_type": "code",
   "execution_count": null,
   "metadata": {
    "collapsed": true
   },
   "outputs": [],
   "source": []
  },
  {
   "cell_type": "code",
   "execution_count": null,
   "metadata": {
    "collapsed": true
   },
   "outputs": [],
   "source": []
  },
  {
   "cell_type": "code",
   "execution_count": 38,
   "metadata": {
    "collapsed": true
   },
   "outputs": [],
   "source": [
    "#Initialization:\n",
    "nn = MLPClassifier(activation='logistic',hidden_layer_sizes=(200,40,10))"
   ]
  },
  {
   "cell_type": "code",
   "execution_count": 39,
   "metadata": {
    "collapsed": false
   },
   "outputs": [],
   "source": [
    "#Learning curve\n",
    "train_sizes, train_scores, test_scores = learning_curve(nn, X, Y,\n",
    "                                                        train_sizes=np.array([ 0.1, 0.33, 0.55, 0.78, 1. ]),\n",
    "                                                        cv=5, scoring='roc_auc', exploit_incremental_learning=True)\n",
    "\n"
   ]
  },
  {
   "cell_type": "code",
   "execution_count": 40,
   "metadata": {
    "collapsed": false
   },
   "outputs": [
    {
     "data": {
      "image/png": "[encoded data removed]",
      "text/plain": [
       "<matplotlib.figure.Figure at 0x187931b0400>"
      ]
     },
     "metadata": {},
     "output_type": "display_data"
    }
   ],
   "source": [
    "# Plotting\n",
    "train_scores_mean = np.mean(train_scores, axis=1)\n",
    "train_scores_std = np.std(train_scores, axis=1)\n",
    "test_scores_mean = np.mean(test_scores, axis=1)\n",
    "test_scores_std = np.std(test_scores, axis=1)\n",
    "\n",
    "plt.fill_between(train_sizes, train_scores_mean - train_scores_std,\n",
    "                     train_scores_mean + train_scores_std, alpha=0.1,\n",
    "                     color=\"r\")\n",
    "plt.fill_between(train_sizes, test_scores_mean - test_scores_std,\n",
    "                     test_scores_mean + test_scores_std, alpha=0.1, color=\"g\")\n",
    "plt.plot(train_sizes, train_scores_mean, 'o-', color=\"r\",\n",
    "             label=\"Training score\")\n",
    "plt.plot(train_sizes, test_scores_mean, 'o-', color=\"g\",\n",
    "             label=\"Cross-validation score\")\n",
    "plt.show()"
   ]
  },
  {
   "cell_type": "markdown",
   "metadata": {},
   "source": [
    "There is still plenty to learn, but not enough data!"
   ]
  },
  {
   "cell_type": "code",
   "execution_count": null,
   "metadata": {
    "collapsed": true
   },
   "outputs": [],
   "source": []
  },
  {
   "cell_type": "code",
   "execution_count": 41,
   "metadata": {
    "collapsed": false
   },
   "outputs": [
    {
     "data": {
      "image/png": "[encoded data removed]",
      "text/plain": [
       "<matplotlib.figure.Figure at 0x187908c4dd8>"
      ]
     },
     "metadata": {},
     "output_type": "display_data"
    }
   ],
   "source": [
    "#Initialization:\n",
    "nn = MLPClassifier(activation='logistic',hidden_layer_sizes=(200,40,10), \n",
    "                   #learning_rate='adaptive', learning_rate_init=0.001,\n",
    "                   alpha=0,tol=1e-4,batch_size=10)\n",
    "\n",
    "#Learning curve\n",
    "train_sizes, train_scores, test_scores = learning_curve(nn, stats.zscore(X), Y,\n",
    "                                                        train_sizes=np.array([ 0.1, 0.33, 0.55, 0.78, 1. ]),\n",
    "                                                        cv=5, scoring='roc_auc', exploit_incremental_learning=True)\n",
    "\n",
    "# Plotting\n",
    "train_scores_mean = np.mean(train_scores, axis=1)\n",
    "train_scores_std = np.std(train_scores, axis=1)\n",
    "test_scores_mean = np.mean(test_scores, axis=1)\n",
    "test_scores_std = np.std(test_scores, axis=1)\n",
    "\n",
    "plt.fill_between(train_sizes, train_scores_mean - train_scores_std,\n",
    "                     train_scores_mean + train_scores_std, alpha=0.1,\n",
    "                     color=\"r\")\n",
    "plt.fill_between(train_sizes, test_scores_mean - test_scores_std,\n",
    "                     test_scores_mean + test_scores_std, alpha=0.1, color=\"g\")\n",
    "plt.plot(train_sizes, train_scores_mean, 'o-', color=\"r\",\n",
    "             label=\"Training score\")\n",
    "plt.plot(train_sizes, test_scores_mean, 'o-', color=\"g\",\n",
    "             label=\"Cross-validation score\")\n",
    "plt.show()"
   ]
  },
  {
   "cell_type": "markdown",
   "metadata": {},
   "source": [
    "Improvement with zscore"
   ]
  },
  {
   "cell_type": "code",
   "execution_count": null,
   "metadata": {
    "collapsed": true
   },
   "outputs": [],
   "source": []
  },
  {
   "cell_type": "code",
   "execution_count": null,
   "metadata": {
    "collapsed": true
   },
   "outputs": [],
   "source": []
  },
  {
   "cell_type": "code",
   "execution_count": 42,
   "metadata": {
    "collapsed": false
   },
   "outputs": [
    {
     "data": {
      "image/png": "[encoded data removed]",
      "text/plain": [
       "<matplotlib.figure.Figure at 0x187908f32b0>"
      ]
     },
     "metadata": {},
     "output_type": "display_data"
    }
   ],
   "source": [
    "#Initialization:\n",
    "nn = MLPClassifier(activation='logistic',hidden_layer_sizes=(40,10), \n",
    "                   learning_rate_init=0.04, learning_rate='adaptive',\n",
    "                   alpha=0.00001,tol=1e-10,batch_size=100)\n",
    "\n",
    "#Learning curve\n",
    "train_sizes, train_scores, test_scores = learning_curve(nn, stats.zscore(minmax_scale(X)), Y,\n",
    "                                                        train_sizes=np.array([ 0.1, 0.33, 0.55, 0.78, 1. ]),\n",
    "                                                        cv=5, scoring='roc_auc', exploit_incremental_learning=True)\n",
    "\n",
    "# Plotting\n",
    "train_scores_mean = np.mean(train_scores, axis=1)\n",
    "train_scores_std = np.std(train_scores, axis=1)\n",
    "test_scores_mean = np.mean(test_scores, axis=1)\n",
    "test_scores_std = np.std(test_scores, axis=1)\n",
    "\n",
    "plt.fill_between(train_sizes, train_scores_mean - train_scores_std,\n",
    "                     train_scores_mean + train_scores_std, alpha=0.1,\n",
    "                     color=\"r\")\n",
    "plt.fill_between(train_sizes, test_scores_mean - test_scores_std,\n",
    "                     test_scores_mean + test_scores_std, alpha=0.1, color=\"g\")\n",
    "plt.plot(train_sizes, train_scores_mean, 'o-', color=\"r\",\n",
    "             label=\"Training score\")\n",
    "plt.plot(train_sizes, test_scores_mean, 'o-', color=\"g\",\n",
    "             label=\"Cross-validation score\")\n",
    "plt.show()"
   ]
  },
  {
   "cell_type": "markdown",
   "metadata": {
    "collapsed": true
   },
   "source": [
    "Improvement with zscore after minmax_scale"
   ]
  },
  {
   "cell_type": "markdown",
   "metadata": {},
   "source": [
    "## 4. K-NN"
   ]
  },
  {
   "cell_type": "code",
   "execution_count": 43,
   "metadata": {
    "collapsed": true
   },
   "outputs": [],
   "source": [
    "from sklearn.neighbors import KNeighborsClassifier"
   ]
  },
  {
   "cell_type": "code",
   "execution_count": 44,
   "metadata": {
    "collapsed": false
   },
   "outputs": [
    {
     "name": "stdout",
     "output_type": "stream",
     "text": [
      "0.635205934637\n",
      "5.08578890396e-05\n"
     ]
    }
   ],
   "source": [
    "#Initialization:\n",
    "knn = KNeighborsClassifier(n_neighbors=201, algorithm='auto',weights='uniform',leaf_size=50)\n",
    "\n",
    "scores = cross_val_score(knn, X, Y, scoring='roc_auc', cv=5)\n",
    "mean_score = np.mean(scores)\n",
    "print(mean_score)\n",
    "var_score = np.var(scores)\n",
    "print(var_score)"
   ]
  },
  {
   "cell_type": "markdown",
   "metadata": {},
   "source": [
    "## Generate labels:"
   ]
  },
  {
   "cell_type": "code",
   "execution_count": 28,
   "metadata": {
    "collapsed": false
   },
   "outputs": [],
   "source": [
    "#Load\n",
    "dataset = pd.DataFrame.from_csv('OutputTable_test.csv')\n",
    "\n",
    "#Clean\n",
    "dataset = dataset.reset_index()\n",
    "dataset = dataset.drop('uniqRowID_2', axis=1)\n",
    "dataset = dataset.set_index('uniqRowID_1')\n",
    "\n",
    "X_test = dataset.copy()\n",
    "\n",
    "#Separate features and labels\n",
    "X_test = X_test.drop('GradeDiff', axis=1)"
   ]
  },
  {
   "cell_type": "code",
   "execution_count": 29,
   "metadata": {
    "collapsed": false
   },
   "outputs": [
    {
     "data": {
      "text/html": [
       "<div>\n",
       "<table border=\"1\" class=\"dataframe\">\n",
       "  <thead>\n",
       "    <tr style=\"text-align: right;\">\n",
       "      <th></th>\n",
       "      <th>Video</th>\n",
       "      <th>Forum</th>\n",
       "      <th>Exp_Prob_GradeDiff</th>\n",
       "      <th>logTimeSinceLast</th>\n",
       "      <th>SubmissionNumber</th>\n",
       "    </tr>\n",
       "    <tr>\n",
       "      <th>uniqRowID_1</th>\n",
       "      <th></th>\n",
       "      <th></th>\n",
       "      <th></th>\n",
       "      <th></th>\n",
       "      <th></th>\n",
       "    </tr>\n",
       "  </thead>\n",
       "  <tbody>\n",
       "    <tr>\n",
       "      <th>f458d6460e49ea8fddd02502a554d9f4_0_1</th>\n",
       "      <td>0.0</td>\n",
       "      <td>0.0</td>\n",
       "      <td>8.64389</td>\n",
       "      <td>5.826000</td>\n",
       "      <td>1</td>\n",
       "    </tr>\n",
       "    <tr>\n",
       "      <th>901c0195edc44042cf1ca29a73748440_0_1</th>\n",
       "      <td>1.0</td>\n",
       "      <td>0.0</td>\n",
       "      <td>8.64389</td>\n",
       "      <td>15.201024</td>\n",
       "      <td>1</td>\n",
       "    </tr>\n",
       "    <tr>\n",
       "      <th>b1a942057414439cb6bee18fbff78e18_0_1</th>\n",
       "      <td>0.0</td>\n",
       "      <td>0.0</td>\n",
       "      <td>8.64389</td>\n",
       "      <td>3.806662</td>\n",
       "      <td>1</td>\n",
       "    </tr>\n",
       "    <tr>\n",
       "      <th>b1a942057414439cb6bee18fbff78e18_0_2</th>\n",
       "      <td>0.0</td>\n",
       "      <td>0.0</td>\n",
       "      <td>8.64389</td>\n",
       "      <td>3.871201</td>\n",
       "      <td>2</td>\n",
       "    </tr>\n",
       "    <tr>\n",
       "      <th>b1a942057414439cb6bee18fbff78e18_0_3</th>\n",
       "      <td>0.0</td>\n",
       "      <td>0.0</td>\n",
       "      <td>8.64389</td>\n",
       "      <td>3.850148</td>\n",
       "      <td>3</td>\n",
       "    </tr>\n",
       "  </tbody>\n",
       "</table>\n",
       "</div>"
      ],
      "text/plain": [
       "                                      Video  Forum  Exp_Prob_GradeDiff  \\\n",
       "uniqRowID_1                                                              \n",
       "f458d6460e49ea8fddd02502a554d9f4_0_1    0.0    0.0             8.64389   \n",
       "901c0195edc44042cf1ca29a73748440_0_1    1.0    0.0             8.64389   \n",
       "b1a942057414439cb6bee18fbff78e18_0_1    0.0    0.0             8.64389   \n",
       "b1a942057414439cb6bee18fbff78e18_0_2    0.0    0.0             8.64389   \n",
       "b1a942057414439cb6bee18fbff78e18_0_3    0.0    0.0             8.64389   \n",
       "\n",
       "                                      logTimeSinceLast  SubmissionNumber  \n",
       "uniqRowID_1                                                               \n",
       "f458d6460e49ea8fddd02502a554d9f4_0_1          5.826000                 1  \n",
       "901c0195edc44042cf1ca29a73748440_0_1         15.201024                 1  \n",
       "b1a942057414439cb6bee18fbff78e18_0_1          3.806662                 1  \n",
       "b1a942057414439cb6bee18fbff78e18_0_2          3.871201                 2  \n",
       "b1a942057414439cb6bee18fbff78e18_0_3          3.850148                 3  "
      ]
     },
     "execution_count": 29,
     "metadata": {},
     "output_type": "execute_result"
    }
   ],
   "source": [
    "X_test.head()"
   ]
  },
  {
   "cell_type": "code",
   "execution_count": 30,
   "metadata": {
    "collapsed": false
   },
   "outputs": [],
   "source": [
    "knn = KNeighborsClassifier(n_neighbors=201, algorithm='auto',weights='uniform',leaf_size=50)\n",
    "\n",
    "rf = RandomForestClassifier(n_estimators=500, max_depth=5, class_weight='balanced')\n",
    "\n",
    "nn = MLPClassifier(activation='logistic',hidden_layer_sizes=(40,10), \n",
    "                   learning_rate_init=0.04, learning_rate='adaptive',\n",
    "                   alpha=0.00001,tol=1e-10,batch_size=100)"
   ]
  },
  {
   "cell_type": "code",
   "execution_count": 31,
   "metadata": {
    "collapsed": false
   },
   "outputs": [],
   "source": [
    "# rf.fit(X,Y)\n",
    "# predictions = rf.predict(X_test)\n",
    "# X_test['improved'] = predictions"
   ]
  },
  {
   "cell_type": "code",
   "execution_count": 32,
   "metadata": {
    "collapsed": false
   },
   "outputs": [
    {
     "data": {
      "text/plain": [
       "Index(['Video', 'Forum', 'Exp_Prob_GradeDiff', 'logTimeSinceLast',\n",
       "       'SubmissionNumber'],\n",
       "      dtype='object')"
      ]
     },
     "execution_count": 32,
     "metadata": {},
     "output_type": "execute_result"
    }
   ],
   "source": [
    "X_test.columns"
   ]
  },
  {
   "cell_type": "code",
   "execution_count": 43,
   "metadata": {
    "collapsed": true
   },
   "outputs": [],
   "source": [
    "X2 = X.ix[:,['Exp_Prob_GradeDiff', 'SubmissionNumber', 'logTimeSinceLast']]\n",
    "X_test2 = X_test.ix[:,['Exp_Prob_GradeDiff', 'SubmissionNumber', 'logTimeSinceLast']]"
   ]
  },
  {
   "cell_type": "code",
   "execution_count": 36,
   "metadata": {
    "collapsed": true
   },
   "outputs": [],
   "source": [
    "X2 = X.copy()\n",
    "X2 = X.copy()\n",
    "X_test2 = X_test.copy()"
   ]
  },
  {
   "cell_type": "code",
   "execution_count": 37,
   "metadata": {
    "collapsed": false
   },
   "outputs": [],
   "source": [
    "Y_predicted = list()\n",
    "for classifier in [nn,knn,rf]:\n",
    "    classifier.fit(X2,Y)\n",
    "    Y_predicted.append(classifier.predict(X_test2))\n",
    "    \n",
    "Y_vote = stats.mode(np.array(Y_predicted))[0]"
   ]
  },
  {
   "cell_type": "code",
   "execution_count": 46,
   "metadata": {
    "collapsed": false
   },
   "outputs": [
    {
     "data": {
      "text/html": [
       "<div>\n",
       "<table border=\"1\" class=\"dataframe\">\n",
       "  <thead>\n",
       "    <tr style=\"text-align: right;\">\n",
       "      <th></th>\n",
       "      <th>Video</th>\n",
       "      <th>Forum</th>\n",
       "      <th>Exp_Prob_GradeDiff</th>\n",
       "      <th>logTimeSinceLast</th>\n",
       "      <th>SubmissionNumber</th>\n",
       "      <th>improved</th>\n",
       "    </tr>\n",
       "    <tr>\n",
       "      <th>uniqRowID_1</th>\n",
       "      <th></th>\n",
       "      <th></th>\n",
       "      <th></th>\n",
       "      <th></th>\n",
       "      <th></th>\n",
       "      <th></th>\n",
       "    </tr>\n",
       "  </thead>\n",
       "  <tbody>\n",
       "    <tr>\n",
       "      <th>f458d6460e49ea8fddd02502a554d9f4_0_1</th>\n",
       "      <td>0.0</td>\n",
       "      <td>0.0</td>\n",
       "      <td>8.64389</td>\n",
       "      <td>5.826000</td>\n",
       "      <td>1</td>\n",
       "      <td>1</td>\n",
       "    </tr>\n",
       "    <tr>\n",
       "      <th>901c0195edc44042cf1ca29a73748440_0_1</th>\n",
       "      <td>1.0</td>\n",
       "      <td>0.0</td>\n",
       "      <td>8.64389</td>\n",
       "      <td>15.201024</td>\n",
       "      <td>1</td>\n",
       "      <td>1</td>\n",
       "    </tr>\n",
       "    <tr>\n",
       "      <th>b1a942057414439cb6bee18fbff78e18_0_1</th>\n",
       "      <td>0.0</td>\n",
       "      <td>0.0</td>\n",
       "      <td>8.64389</td>\n",
       "      <td>3.806662</td>\n",
       "      <td>1</td>\n",
       "      <td>1</td>\n",
       "    </tr>\n",
       "    <tr>\n",
       "      <th>b1a942057414439cb6bee18fbff78e18_0_2</th>\n",
       "      <td>0.0</td>\n",
       "      <td>0.0</td>\n",
       "      <td>8.64389</td>\n",
       "      <td>3.871201</td>\n",
       "      <td>2</td>\n",
       "      <td>1</td>\n",
       "    </tr>\n",
       "    <tr>\n",
       "      <th>b1a942057414439cb6bee18fbff78e18_0_3</th>\n",
       "      <td>0.0</td>\n",
       "      <td>0.0</td>\n",
       "      <td>8.64389</td>\n",
       "      <td>3.850148</td>\n",
       "      <td>3</td>\n",
       "      <td>1</td>\n",
       "    </tr>\n",
       "  </tbody>\n",
       "</table>\n",
       "</div>"
      ],
      "text/plain": [
       "                                      Video  Forum  Exp_Prob_GradeDiff  \\\n",
       "uniqRowID_1                                                              \n",
       "f458d6460e49ea8fddd02502a554d9f4_0_1    0.0    0.0             8.64389   \n",
       "901c0195edc44042cf1ca29a73748440_0_1    1.0    0.0             8.64389   \n",
       "b1a942057414439cb6bee18fbff78e18_0_1    0.0    0.0             8.64389   \n",
       "b1a942057414439cb6bee18fbff78e18_0_2    0.0    0.0             8.64389   \n",
       "b1a942057414439cb6bee18fbff78e18_0_3    0.0    0.0             8.64389   \n",
       "\n",
       "                                      logTimeSinceLast  SubmissionNumber  \\\n",
       "uniqRowID_1                                                                \n",
       "f458d6460e49ea8fddd02502a554d9f4_0_1          5.826000                 1   \n",
       "901c0195edc44042cf1ca29a73748440_0_1         15.201024                 1   \n",
       "b1a942057414439cb6bee18fbff78e18_0_1          3.806662                 1   \n",
       "b1a942057414439cb6bee18fbff78e18_0_2          3.871201                 2   \n",
       "b1a942057414439cb6bee18fbff78e18_0_3          3.850148                 3   \n",
       "\n",
       "                                      improved  \n",
       "uniqRowID_1                                     \n",
       "f458d6460e49ea8fddd02502a554d9f4_0_1         1  \n",
       "901c0195edc44042cf1ca29a73748440_0_1         1  \n",
       "b1a942057414439cb6bee18fbff78e18_0_1         1  \n",
       "b1a942057414439cb6bee18fbff78e18_0_2         1  \n",
       "b1a942057414439cb6bee18fbff78e18_0_3         1  "
      ]
     },
     "execution_count": 46,
     "metadata": {},
     "output_type": "execute_result"
    }
   ],
   "source": [
    "X_test2['improved'] = Y_predicted[2]\n",
    "X_test2.head()"
   ]
  },
  {
   "cell_type": "code",
   "execution_count": 47,
   "metadata": {
    "collapsed": false
   },
   "outputs": [
    {
     "data": {
      "text/html": [
       "<div>\n",
       "<table border=\"1\" class=\"dataframe\">\n",
       "  <thead>\n",
       "    <tr style=\"text-align: right;\">\n",
       "      <th></th>\n",
       "      <th>improved</th>\n",
       "    </tr>\n",
       "    <tr>\n",
       "      <th>uniqRowID</th>\n",
       "      <th></th>\n",
       "    </tr>\n",
       "  </thead>\n",
       "  <tbody>\n",
       "    <tr>\n",
       "      <th>3038c17eb0ce9931fc27ac6e015ced6d_0_1</th>\n",
       "      <td>0</td>\n",
       "    </tr>\n",
       "    <tr>\n",
       "      <th>ba0fcffcfcea8c810970dfa4509cbc9c_0_1</th>\n",
       "      <td>0</td>\n",
       "    </tr>\n",
       "    <tr>\n",
       "      <th>9c5e154703a328527aec012787418b32_0_1</th>\n",
       "      <td>0</td>\n",
       "    </tr>\n",
       "    <tr>\n",
       "      <th>95a8908e60888df3c52d999a3977d595_0_5</th>\n",
       "      <td>0</td>\n",
       "    </tr>\n",
       "    <tr>\n",
       "      <th>17b46a6f879253c70ea7aaba260f417c_0_2</th>\n",
       "      <td>0</td>\n",
       "    </tr>\n",
       "  </tbody>\n",
       "</table>\n",
       "</div>"
      ],
      "text/plain": [
       "                                      improved\n",
       "uniqRowID                                     \n",
       "3038c17eb0ce9931fc27ac6e015ced6d_0_1         0\n",
       "ba0fcffcfcea8c810970dfa4509cbc9c_0_1         0\n",
       "9c5e154703a328527aec012787418b32_0_1         0\n",
       "95a8908e60888df3c52d999a3977d595_0_5         0\n",
       "17b46a6f879253c70ea7aaba260f417c_0_2         0"
      ]
     },
     "execution_count": 47,
     "metadata": {},
     "output_type": "execute_result"
    }
   ],
   "source": [
    "X_test3 = pd.DataFrame.from_csv('classifier_sampleResults.csv')\n",
    "X_test3.head()"
   ]
  },
  {
   "cell_type": "code",
   "execution_count": 48,
   "metadata": {
    "collapsed": false
   },
   "outputs": [],
   "source": [
    "index1 = X_test2.index.intersection(X_test3.index)"
   ]
  },
  {
   "cell_type": "code",
   "execution_count": 49,
   "metadata": {
    "collapsed": false
   },
   "outputs": [],
   "source": [
    "predictions = X_test2.loc[index1][['improved']]"
   ]
  },
  {
   "cell_type": "code",
   "execution_count": 50,
   "metadata": {
    "collapsed": false
   },
   "outputs": [
    {
     "data": {
      "text/html": [
       "<div>\n",
       "<table border=\"1\" class=\"dataframe\">\n",
       "  <thead>\n",
       "    <tr style=\"text-align: right;\">\n",
       "      <th></th>\n",
       "      <th>improved</th>\n",
       "    </tr>\n",
       "  </thead>\n",
       "  <tbody>\n",
       "    <tr>\n",
       "      <th>3038c17eb0ce9931fc27ac6e015ced6d_0_1</th>\n",
       "      <td>0</td>\n",
       "    </tr>\n",
       "    <tr>\n",
       "      <th>ba0fcffcfcea8c810970dfa4509cbc9c_0_1</th>\n",
       "      <td>1</td>\n",
       "    </tr>\n",
       "    <tr>\n",
       "      <th>9c5e154703a328527aec012787418b32_0_1</th>\n",
       "      <td>1</td>\n",
       "    </tr>\n",
       "    <tr>\n",
       "      <th>95a8908e60888df3c52d999a3977d595_0_5</th>\n",
       "      <td>0</td>\n",
       "    </tr>\n",
       "    <tr>\n",
       "      <th>17b46a6f879253c70ea7aaba260f417c_0_2</th>\n",
       "      <td>0</td>\n",
       "    </tr>\n",
       "  </tbody>\n",
       "</table>\n",
       "</div>"
      ],
      "text/plain": [
       "                                      improved\n",
       "3038c17eb0ce9931fc27ac6e015ced6d_0_1         0\n",
       "ba0fcffcfcea8c810970dfa4509cbc9c_0_1         1\n",
       "9c5e154703a328527aec012787418b32_0_1         1\n",
       "95a8908e60888df3c52d999a3977d595_0_5         0\n",
       "17b46a6f879253c70ea7aaba260f417c_0_2         0"
      ]
     },
     "execution_count": 50,
     "metadata": {},
     "output_type": "execute_result"
    }
   ],
   "source": [
    "predictions.head()"
   ]
  },
  {
   "cell_type": "code",
   "execution_count": 51,
   "metadata": {
    "collapsed": false
   },
   "outputs": [
    {
     "data": {
      "text/html": [
       "<div>\n",
       "<table border=\"1\" class=\"dataframe\">\n",
       "  <thead>\n",
       "    <tr style=\"text-align: right;\">\n",
       "      <th></th>\n",
       "      <th>uniqRowID</th>\n",
       "      <th>improved</th>\n",
       "    </tr>\n",
       "  </thead>\n",
       "  <tbody>\n",
       "    <tr>\n",
       "      <th>3038c17eb0ce9931fc27ac6e015ced6d_0_1</th>\n",
       "      <td>3038c17eb0ce9931fc27ac6e015ced6d_0_1</td>\n",
       "      <td>0</td>\n",
       "    </tr>\n",
       "    <tr>\n",
       "      <th>ba0fcffcfcea8c810970dfa4509cbc9c_0_1</th>\n",
       "      <td>ba0fcffcfcea8c810970dfa4509cbc9c_0_1</td>\n",
       "      <td>1</td>\n",
       "    </tr>\n",
       "    <tr>\n",
       "      <th>9c5e154703a328527aec012787418b32_0_1</th>\n",
       "      <td>9c5e154703a328527aec012787418b32_0_1</td>\n",
       "      <td>1</td>\n",
       "    </tr>\n",
       "    <tr>\n",
       "      <th>95a8908e60888df3c52d999a3977d595_0_5</th>\n",
       "      <td>95a8908e60888df3c52d999a3977d595_0_5</td>\n",
       "      <td>0</td>\n",
       "    </tr>\n",
       "    <tr>\n",
       "      <th>17b46a6f879253c70ea7aaba260f417c_0_2</th>\n",
       "      <td>17b46a6f879253c70ea7aaba260f417c_0_2</td>\n",
       "      <td>0</td>\n",
       "    </tr>\n",
       "  </tbody>\n",
       "</table>\n",
       "</div>"
      ],
      "text/plain": [
       "                                                                 uniqRowID  \\\n",
       "3038c17eb0ce9931fc27ac6e015ced6d_0_1  3038c17eb0ce9931fc27ac6e015ced6d_0_1   \n",
       "ba0fcffcfcea8c810970dfa4509cbc9c_0_1  ba0fcffcfcea8c810970dfa4509cbc9c_0_1   \n",
       "9c5e154703a328527aec012787418b32_0_1  9c5e154703a328527aec012787418b32_0_1   \n",
       "95a8908e60888df3c52d999a3977d595_0_5  95a8908e60888df3c52d999a3977d595_0_5   \n",
       "17b46a6f879253c70ea7aaba260f417c_0_2  17b46a6f879253c70ea7aaba260f417c_0_2   \n",
       "\n",
       "                                      improved  \n",
       "3038c17eb0ce9931fc27ac6e015ced6d_0_1         0  \n",
       "ba0fcffcfcea8c810970dfa4509cbc9c_0_1         1  \n",
       "9c5e154703a328527aec012787418b32_0_1         1  \n",
       "95a8908e60888df3c52d999a3977d595_0_5         0  \n",
       "17b46a6f879253c70ea7aaba260f417c_0_2         0  "
      ]
     },
     "execution_count": 51,
     "metadata": {},
     "output_type": "execute_result"
    }
   ],
   "source": [
    "predictions['uniqRowID'] = predictions.index\n",
    "predictions = predictions[['uniqRowID','improved']]\n",
    "predictions.head()"
   ]
  },
  {
   "cell_type": "code",
   "execution_count": 52,
   "metadata": {
    "collapsed": false
   },
   "outputs": [],
   "source": [
    "predictions.to_csv(path_or_buf='classifierResults.csv', sep=',', index=False, quoting=1)"
   ]
  },
  {
   "cell_type": "code",
   "execution_count": null,
   "metadata": {
    "collapsed": true
   },
   "outputs": [],
   "source": []
  },
  {
   "cell_type": "code",
   "execution_count": null,
   "metadata": {
    "collapsed": true
   },
   "outputs": [],
   "source": []
  },
  {
   "cell_type": "code",
   "execution_count": null,
   "metadata": {
    "collapsed": true
   },
   "outputs": [],
   "source": []
  },
  {
   "cell_type": "code",
   "execution_count": null,
   "metadata": {
    "collapsed": true
   },
   "outputs": [],
   "source": []
  },
  {
   "cell_type": "code",
   "execution_count": null,
   "metadata": {
    "collapsed": true
   },
   "outputs": [],
   "source": []
  },
  {
   "cell_type": "markdown",
   "metadata": {
    "collapsed": true
   },
   "source": [
    "## The check"
   ]
  },
  {
   "cell_type": "code",
   "execution_count": null,
   "metadata": {
    "collapsed": false
   },
   "outputs": [],
   "source": [
    "predictions.shape"
   ]
  },
  {
   "cell_type": "code",
   "execution_count": null,
   "metadata": {
    "collapsed": false
   },
   "outputs": [],
   "source": [
    "from sklearn.model_selection import train_test_split\n",
    "X_train, X_test, y_train, y_test = train_test_split(X, Y, test_size=0.20, random_state=42)\n",
    "rf.fit(X_train,y_train)\n",
    "predictions = rf.predict(X_test)\n",
    "\n",
    "roc_auc_score(y_test,predictions)"
   ]
  },
  {
   "cell_type": "code",
   "execution_count": null,
   "metadata": {
    "collapsed": false
   },
   "outputs": [],
   "source": [
    "check = pd.DataFrame(y_test)\n",
    "check['prediction'] = predictions\n",
    "check.head()"
   ]
  },
  {
   "cell_type": "code",
   "execution_count": null,
   "metadata": {
    "collapsed": true
   },
   "outputs": [],
   "source": [
    "check.to_csv(path_or_buf='check.csv', sep=',', index=False, quoting=1)"
   ]
  },
  {
   "cell_type": "code",
   "execution_count": null,
   "metadata": {
    "collapsed": true
   },
   "outputs": [],
   "source": []
  },
  {
   "cell_type": "code",
   "execution_count": null,
   "metadata": {
    "collapsed": true
   },
   "outputs": [],
   "source": []
  },
  {
   "cell_type": "code",
   "execution_count": null,
   "metadata": {
    "collapsed": true
   },
   "outputs": [],
   "source": []
  },
  {
   "cell_type": "markdown",
   "metadata": {},
   "source": [
    "## 5. THE CHIMERA!!"
   ]
  },
  {
   "cell_type": "code",
   "execution_count": null,
   "metadata": {
    "collapsed": false
   },
   "outputs": [],
   "source": [
    "from scipy import stats\n",
    "from sklearn.model_selection import train_test_split\n",
    "\n",
    "knn = KNeighborsClassifier(n_neighbors=201, algorithm='auto',weights='uniform',leaf_size=50)\n",
    "\n",
    "rf = RandomForestClassifier(n_estimators=500, max_depth=7, class_weight='balanced')\n",
    "\n",
    "nn = MLPClassifier(activation='logistic',hidden_layer_sizes=(40,10), \n",
    "                   learning_rate_init=0.04, learning_rate='adaptive',\n",
    "                   alpha=0.00001,tol=1e-10,batch_size=100)\n",
    "\n",
    "Y_predicted = list()\n",
    "X_train, X_test, y_train, y_test = train_test_split(X, Y, test_size=0.20, random_state=42)\n",
    "\n",
    "for classifier in [nn,knn,rf]:\n",
    "    classifier.fit(X_train,y_train)\n",
    "    Y_predicted.append(classifier.predict(X_test))\n",
    "    \n",
    "    \n",
    "Y_vote = stats.mode(np.array(Y_predicted))[0]    "
   ]
  },
  {
   "cell_type": "code",
   "execution_count": null,
   "metadata": {
    "collapsed": false
   },
   "outputs": [],
   "source": [
    "y_test = y_test.reshape((1,len(y_test)))"
   ]
  },
  {
   "cell_type": "code",
   "execution_count": null,
   "metadata": {
    "collapsed": false
   },
   "outputs": [],
   "source": [
    "roc_auc_score(y_test[0],Y_predicted[2])"
   ]
  },
  {
   "cell_type": "markdown",
   "metadata": {},
   "source": [
    "## 4. With PCA"
   ]
  },
  {
   "cell_type": "code",
   "execution_count": null,
   "metadata": {
    "collapsed": false
   },
   "outputs": [],
   "source": [
    "from sklearn.decomposition import PCA\n",
    "pca = PCA(n_components=4)\n",
    "pca.fit(stats.zscore(minmax_scale(X)))\n",
    "print(pca.explained_variance_ratio_) \n",
    "X_pca = pca.fit_transform(stats.zscore(minmax_scale(X)))"
   ]
  },
  {
   "cell_type": "code",
   "execution_count": null,
   "metadata": {
    "collapsed": true
   },
   "outputs": [],
   "source": [
    "#Initialization:\n",
    "nn = MLPClassifier(activation='logistic',hidden_layer_sizes=(40,10), \n",
    "                   learning_rate_init=0.04, learning_rate='adaptive',\n",
    "                   alpha=0.00001,tol=1e-10,batch_size=100)"
   ]
  },
  {
   "cell_type": "code",
   "execution_count": null,
   "metadata": {
    "collapsed": true
   },
   "outputs": [],
   "source": [
    "#Learning curve\n",
    "train_sizes, train_scores, test_scores = learning_curve(nn, X_pca, Y,\n",
    "                                                        train_sizes=np.array([ 0.1, 0.33, 0.55, 0.78, 1. ]),\n",
    "                                                        cv=5, scoring='roc_auc', exploit_incremental_learning=True)\n"
   ]
  },
  {
   "cell_type": "code",
   "execution_count": null,
   "metadata": {
    "collapsed": false
   },
   "outputs": [],
   "source": [
    "train_scores_mean = np.mean(train_scores, axis=1)\n",
    "train_scores_std = np.std(train_scores, axis=1)\n",
    "test_scores_mean = np.mean(test_scores, axis=1)\n",
    "test_scores_std = np.std(test_scores, axis=1)\n",
    "\n",
    "plt.fill_between(train_sizes, train_scores_mean - train_scores_std,\n",
    "                     train_scores_mean + train_scores_std, alpha=0.1,\n",
    "                     color=\"r\")\n",
    "plt.fill_between(train_sizes, test_scores_mean - test_scores_std,\n",
    "                     test_scores_mean + test_scores_std, alpha=0.1, color=\"g\")\n",
    "plt.plot(train_sizes, train_scores_mean, 'o-', color=\"r\",\n",
    "             label=\"Training score\")\n",
    "plt.plot(train_sizes, test_scores_mean, 'o-', color=\"g\",\n",
    "             label=\"Cross-validation score\")\n",
    "plt.show()"
   ]
  },
  {
   "cell_type": "markdown",
   "metadata": {},
   "source": [
    "Not working"
   ]
  },
  {
   "cell_type": "code",
   "execution_count": null,
   "metadata": {
    "collapsed": true
   },
   "outputs": [],
   "source": []
  },
  {
   "cell_type": "code",
   "execution_count": null,
   "metadata": {
    "collapsed": true
   },
   "outputs": [],
   "source": []
  },
  {
   "cell_type": "markdown",
   "metadata": {},
   "source": [
    "## 5. Discarding features manually"
   ]
  },
  {
   "cell_type": "code",
   "execution_count": null,
   "metadata": {
    "collapsed": false
   },
   "outputs": [],
   "source": [
    "X.head()"
   ]
  },
  {
   "cell_type": "code",
   "execution_count": null,
   "metadata": {
    "collapsed": true
   },
   "outputs": [],
   "source": [
    "X_short = X.loc[:,['SubmissionNumber','TimeSinceLast','Exp_Prob_GradeDiff']]"
   ]
  },
  {
   "cell_type": "code",
   "execution_count": null,
   "metadata": {
    "collapsed": false
   },
   "outputs": [],
   "source": [
    "#Initialization:\n",
    "nn = MLPClassifier(activation='logistic',hidden_layer_sizes=(10,), \n",
    "                   learning_rate_init=0.1, learning_rate='adaptive',\n",
    "                   alpha=0,tol=1e-10,batch_size=100)\n",
    "\n",
    "#Learning curve\n",
    "train_sizes, train_scores, test_scores = learning_curve(nn, stats.zscore(minmax_scale(X_short)), Y,\n",
    "                                                        train_sizes=np.array([ 0.1, 0.33, 0.55, 0.78, 1. ]),\n",
    "                                                        cv=5, scoring='roc_auc', exploit_incremental_learning=True)\n",
    "\n",
    "# Plotting\n",
    "train_scores_mean = np.mean(train_scores, axis=1)\n",
    "train_scores_std = np.std(train_scores, axis=1)\n",
    "test_scores_mean = np.mean(test_scores, axis=1)\n",
    "test_scores_std = np.std(test_scores, axis=1)\n",
    "\n",
    "plt.fill_between(train_sizes, train_scores_mean - train_scores_std,\n",
    "                     train_scores_mean + train_scores_std, alpha=0.1,\n",
    "                     color=\"r\")\n",
    "plt.fill_between(train_sizes, test_scores_mean - test_scores_std,\n",
    "                     test_scores_mean + test_scores_std, alpha=0.1, color=\"g\")\n",
    "plt.plot(train_sizes, train_scores_mean, 'o-', color=\"r\",\n",
    "             label=\"Training score\")\n",
    "plt.plot(train_sizes, test_scores_mean, 'o-', color=\"g\",\n",
    "             label=\"Cross-validation score\")\n",
    "plt.show()"
   ]
  },
  {
   "cell_type": "code",
   "execution_count": null,
   "metadata": {
    "collapsed": true
   },
   "outputs": [],
   "source": []
  },
  {
   "cell_type": "code",
   "execution_count": null,
   "metadata": {
    "collapsed": true
   },
   "outputs": [],
   "source": []
  }
 ],
 "metadata": {
  "anaconda-cloud": {},
  "kernelspec": {
   "display_name": "Python [conda root]",
   "language": "python",
   "name": "conda-root-py"
  },
  "language_info": {
   "codemirror_mode": {
    "name": "ipython",
    "version": 3
   },
   "file_extension": ".py",
   "mimetype": "text/x-python",
   "name": "python",
   "nbconvert_exporter": "python",
   "pygments_lexer": "ipython3",
   "version": "3.5.2"
  }
 },
 "nbformat": 4,
 "nbformat_minor": 1
}
