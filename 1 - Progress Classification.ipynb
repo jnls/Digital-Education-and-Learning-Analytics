{
 "cells": [
  {
   "cell_type": "code",
   "execution_count": 1,
   "metadata": {
    "collapsed": true
   },
   "outputs": [],
   "source": [
    "import pandas as pd\n",
    "import numpy as np\n",
    "from scipy import stats\n",
    "import matplotlib.pyplot as plt\n",
    "from scipy import interp\n",
    "from itertools import cycle\n",
    "%matplotlib inline"
   ]
  },
  {
   "cell_type": "markdown",
   "metadata": {},
   "source": [
    "# Load and prepare the data"
   ]
  },
  {
   "cell_type": "code",
   "execution_count": 2,
   "metadata": {
    "collapsed": false
   },
   "outputs": [],
   "source": [
    "#Load\n",
    "dataset = pd.DataFrame.from_csv('OutputTable.csv')\n",
    "\n",
    "#Clean\n",
    "dataset = dataset.reset_index()\n",
    "dataset = dataset.drop('uniqRowID_2', axis=1)\n",
    "dataset = dataset.set_index('uniqRowID_1')\n",
    "\n",
    "#Shuffle\n",
    "X = dataset.iloc[np.random.permutation(len(dataset))]\n",
    "\n",
    "#Separate features and labels\n",
    "Y = (X.GradeDiff > 0) * 1\n",
    "X = X.drop(['GradeDiff','TimeSinceLast'], axis=1)"
   ]
  },
  {
   "cell_type": "code",
   "execution_count": 3,
   "metadata": {
    "collapsed": false
   },
   "outputs": [
    {
     "data": {
      "text/html": [
       "<div>\n",
       "<table border=\"1\" class=\"dataframe\">\n",
       "  <thead>\n",
       "    <tr style=\"text-align: right;\">\n",
       "      <th></th>\n",
       "      <th>ProblemID</th>\n",
       "      <th>SubmissionNumber</th>\n",
       "      <th>NVideoEvents</th>\n",
       "      <th>NForumEvents</th>\n",
       "      <th>AverageVideoTimeDiffs</th>\n",
       "      <th>ForumActivity</th>\n",
       "      <th>DifferentVideos</th>\n",
       "      <th>NumberOfUpvotes</th>\n",
       "      <th>DurationOfVideoActivity</th>\n",
       "      <th>NumberOfThreadViews</th>\n",
       "      <th>Diff_Prob_Ini</th>\n",
       "      <th>Diff_Prob_Fin</th>\n",
       "      <th>Exp_Prob_GradeDiff</th>\n",
       "      <th>logTimeSinceLast</th>\n",
       "    </tr>\n",
       "    <tr>\n",
       "      <th>uniqRowID_1</th>\n",
       "      <th></th>\n",
       "      <th></th>\n",
       "      <th></th>\n",
       "      <th></th>\n",
       "      <th></th>\n",
       "      <th></th>\n",
       "      <th></th>\n",
       "      <th></th>\n",
       "      <th></th>\n",
       "      <th></th>\n",
       "      <th></th>\n",
       "      <th></th>\n",
       "      <th></th>\n",
       "      <th></th>\n",
       "    </tr>\n",
       "  </thead>\n",
       "  <tbody>\n",
       "    <tr>\n",
       "      <th>e31fd58076d1113836027ab92762cc27_4_7</th>\n",
       "      <td>4</td>\n",
       "      <td>7</td>\n",
       "      <td>0.0</td>\n",
       "      <td>0.0</td>\n",
       "      <td>0.0</td>\n",
       "      <td>0.0</td>\n",
       "      <td>0.0</td>\n",
       "      <td>0.0</td>\n",
       "      <td>0.0</td>\n",
       "      <td>0.0</td>\n",
       "      <td>40.927461</td>\n",
       "      <td>87.606218</td>\n",
       "      <td>12.247145</td>\n",
       "      <td>5.323010</td>\n",
       "    </tr>\n",
       "    <tr>\n",
       "      <th>647a07cdbf682014e63027a2eb33d441_8_25</th>\n",
       "      <td>8</td>\n",
       "      <td>25</td>\n",
       "      <td>0.0</td>\n",
       "      <td>0.0</td>\n",
       "      <td>0.0</td>\n",
       "      <td>0.0</td>\n",
       "      <td>0.0</td>\n",
       "      <td>0.0</td>\n",
       "      <td>0.0</td>\n",
       "      <td>0.0</td>\n",
       "      <td>59.386095</td>\n",
       "      <td>89.996302</td>\n",
       "      <td>8.557692</td>\n",
       "      <td>6.144186</td>\n",
       "    </tr>\n",
       "    <tr>\n",
       "      <th>3f8297afddb8928a8b24946b624551e0_7_4</th>\n",
       "      <td>7</td>\n",
       "      <td>4</td>\n",
       "      <td>0.0</td>\n",
       "      <td>0.0</td>\n",
       "      <td>0.0</td>\n",
       "      <td>0.0</td>\n",
       "      <td>0.0</td>\n",
       "      <td>0.0</td>\n",
       "      <td>0.0</td>\n",
       "      <td>0.0</td>\n",
       "      <td>48.199768</td>\n",
       "      <td>94.878049</td>\n",
       "      <td>15.135576</td>\n",
       "      <td>5.010635</td>\n",
       "    </tr>\n",
       "    <tr>\n",
       "      <th>a790e7638e4646edb8e8745d1eb62193_14_8</th>\n",
       "      <td>14</td>\n",
       "      <td>8</td>\n",
       "      <td>0.0</td>\n",
       "      <td>0.0</td>\n",
       "      <td>0.0</td>\n",
       "      <td>0.0</td>\n",
       "      <td>0.0</td>\n",
       "      <td>0.0</td>\n",
       "      <td>0.0</td>\n",
       "      <td>0.0</td>\n",
       "      <td>39.823853</td>\n",
       "      <td>89.807951</td>\n",
       "      <td>4.592268</td>\n",
       "      <td>6.228511</td>\n",
       "    </tr>\n",
       "    <tr>\n",
       "      <th>5c67352ab94cb3177b1a369a26c299fa_11_8</th>\n",
       "      <td>11</td>\n",
       "      <td>8</td>\n",
       "      <td>0.0</td>\n",
       "      <td>0.0</td>\n",
       "      <td>0.0</td>\n",
       "      <td>0.0</td>\n",
       "      <td>0.0</td>\n",
       "      <td>0.0</td>\n",
       "      <td>0.0</td>\n",
       "      <td>0.0</td>\n",
       "      <td>49.730917</td>\n",
       "      <td>93.739703</td>\n",
       "      <td>7.738509</td>\n",
       "      <td>5.303305</td>\n",
       "    </tr>\n",
       "  </tbody>\n",
       "</table>\n",
       "</div>"
      ],
      "text/plain": [
       "                                       ProblemID  SubmissionNumber  \\\n",
       "uniqRowID_1                                                          \n",
       "e31fd58076d1113836027ab92762cc27_4_7           4                 7   \n",
       "647a07cdbf682014e63027a2eb33d441_8_25          8                25   \n",
       "3f8297afddb8928a8b24946b624551e0_7_4           7                 4   \n",
       "a790e7638e4646edb8e8745d1eb62193_14_8         14                 8   \n",
       "5c67352ab94cb3177b1a369a26c299fa_11_8         11                 8   \n",
       "\n",
       "                                       NVideoEvents  NForumEvents  \\\n",
       "uniqRowID_1                                                         \n",
       "e31fd58076d1113836027ab92762cc27_4_7            0.0           0.0   \n",
       "647a07cdbf682014e63027a2eb33d441_8_25           0.0           0.0   \n",
       "3f8297afddb8928a8b24946b624551e0_7_4            0.0           0.0   \n",
       "a790e7638e4646edb8e8745d1eb62193_14_8           0.0           0.0   \n",
       "5c67352ab94cb3177b1a369a26c299fa_11_8           0.0           0.0   \n",
       "\n",
       "                                       AverageVideoTimeDiffs  ForumActivity  \\\n",
       "uniqRowID_1                                                                   \n",
       "e31fd58076d1113836027ab92762cc27_4_7                     0.0            0.0   \n",
       "647a07cdbf682014e63027a2eb33d441_8_25                    0.0            0.0   \n",
       "3f8297afddb8928a8b24946b624551e0_7_4                     0.0            0.0   \n",
       "a790e7638e4646edb8e8745d1eb62193_14_8                    0.0            0.0   \n",
       "5c67352ab94cb3177b1a369a26c299fa_11_8                    0.0            0.0   \n",
       "\n",
       "                                       DifferentVideos  NumberOfUpvotes  \\\n",
       "uniqRowID_1                                                               \n",
       "e31fd58076d1113836027ab92762cc27_4_7               0.0              0.0   \n",
       "647a07cdbf682014e63027a2eb33d441_8_25              0.0              0.0   \n",
       "3f8297afddb8928a8b24946b624551e0_7_4               0.0              0.0   \n",
       "a790e7638e4646edb8e8745d1eb62193_14_8              0.0              0.0   \n",
       "5c67352ab94cb3177b1a369a26c299fa_11_8              0.0              0.0   \n",
       "\n",
       "                                       DurationOfVideoActivity  \\\n",
       "uniqRowID_1                                                      \n",
       "e31fd58076d1113836027ab92762cc27_4_7                       0.0   \n",
       "647a07cdbf682014e63027a2eb33d441_8_25                      0.0   \n",
       "3f8297afddb8928a8b24946b624551e0_7_4                       0.0   \n",
       "a790e7638e4646edb8e8745d1eb62193_14_8                      0.0   \n",
       "5c67352ab94cb3177b1a369a26c299fa_11_8                      0.0   \n",
       "\n",
       "                                       NumberOfThreadViews  Diff_Prob_Ini  \\\n",
       "uniqRowID_1                                                                 \n",
       "e31fd58076d1113836027ab92762cc27_4_7                   0.0      40.927461   \n",
       "647a07cdbf682014e63027a2eb33d441_8_25                  0.0      59.386095   \n",
       "3f8297afddb8928a8b24946b624551e0_7_4                   0.0      48.199768   \n",
       "a790e7638e4646edb8e8745d1eb62193_14_8                  0.0      39.823853   \n",
       "5c67352ab94cb3177b1a369a26c299fa_11_8                  0.0      49.730917   \n",
       "\n",
       "                                       Diff_Prob_Fin  Exp_Prob_GradeDiff  \\\n",
       "uniqRowID_1                                                                \n",
       "e31fd58076d1113836027ab92762cc27_4_7       87.606218           12.247145   \n",
       "647a07cdbf682014e63027a2eb33d441_8_25      89.996302            8.557692   \n",
       "3f8297afddb8928a8b24946b624551e0_7_4       94.878049           15.135576   \n",
       "a790e7638e4646edb8e8745d1eb62193_14_8      89.807951            4.592268   \n",
       "5c67352ab94cb3177b1a369a26c299fa_11_8      93.739703            7.738509   \n",
       "\n",
       "                                       logTimeSinceLast  \n",
       "uniqRowID_1                                              \n",
       "e31fd58076d1113836027ab92762cc27_4_7           5.323010  \n",
       "647a07cdbf682014e63027a2eb33d441_8_25          6.144186  \n",
       "3f8297afddb8928a8b24946b624551e0_7_4           5.010635  \n",
       "a790e7638e4646edb8e8745d1eb62193_14_8          6.228511  \n",
       "5c67352ab94cb3177b1a369a26c299fa_11_8          5.303305  "
      ]
     },
     "execution_count": 3,
     "metadata": {},
     "output_type": "execute_result"
    }
   ],
   "source": [
    "X.head()"
   ]
  },
  {
   "cell_type": "code",
   "execution_count": 18,
   "metadata": {
    "collapsed": false
   },
   "outputs": [
    {
     "data": {
      "text/plain": [
       "(31985, 14)"
      ]
     },
     "execution_count": 18,
     "metadata": {},
     "output_type": "execute_result"
    }
   ],
   "source": [
    "X.shape"
   ]
  },
  {
   "cell_type": "code",
   "execution_count": 30,
   "metadata": {
    "collapsed": false
   },
   "outputs": [
    {
     "data": {
      "text/plain": [
       "Index(['ProblemID', 'SubmissionNumber', 'NVideoEvents', 'NForumEvents',\n",
       "       'AverageVideoTimeDiffs', 'ForumActivity', 'DifferentVideos',\n",
       "       'NumberOfUpvotes', 'DurationOfVideoActivity', 'NumberOfThreadViews',\n",
       "       'Diff_Prob_Ini', 'Diff_Prob_Fin', 'Exp_Prob_GradeDiff',\n",
       "       'logTimeSinceLast'],\n",
       "      dtype='object')"
      ]
     },
     "execution_count": 30,
     "metadata": {},
     "output_type": "execute_result"
    }
   ],
   "source": [
    "X.columns"
   ]
  },
  {
   "cell_type": "code",
   "execution_count": 19,
   "metadata": {
    "collapsed": false
   },
   "outputs": [
    {
     "data": {
      "text/plain": [
       "0    17924\n",
       "1    14061\n",
       "Name: GradeDiff, dtype: int64"
      ]
     },
     "execution_count": 19,
     "metadata": {},
     "output_type": "execute_result"
    }
   ],
   "source": [
    "Y.value_counts()#.plot(kind = 'bar')"
   ]
  },
  {
   "cell_type": "markdown",
   "metadata": {},
   "source": [
    "Almost balanced classes"
   ]
  },
  {
   "cell_type": "markdown",
   "metadata": {},
   "source": [
    "# Machine Learning"
   ]
  },
  {
   "cell_type": "code",
   "execution_count": 4,
   "metadata": {
    "collapsed": true
   },
   "outputs": [],
   "source": [
    "from sklearn.metrics import confusion_matrix\n",
    "from sklearn.model_selection import cross_val_score\n",
    "from sklearn.model_selection import cross_val_predict\n",
    "from sklearn.model_selection import GridSearchCV\n",
    "from sklearn.model_selection import learning_curve\n",
    "from sklearn.preprocessing import minmax_scale\n",
    "from sklearn.metrics import roc_auc_score\n",
    "from sklearn import svm, datasets\n",
    "from sklearn.metrics import roc_curve, auc\n",
    "from sklearn.model_selection import StratifiedKFold"
   ]
  },
  {
   "cell_type": "markdown",
   "metadata": {},
   "source": [
    "## 1. Random Forest"
   ]
  },
  {
   "cell_type": "code",
   "execution_count": 21,
   "metadata": {
    "collapsed": true
   },
   "outputs": [],
   "source": [
    "from sklearn.ensemble import RandomForestClassifier"
   ]
  },
  {
   "cell_type": "code",
   "execution_count": 22,
   "metadata": {
    "collapsed": false
   },
   "outputs": [],
   "source": [
    "#Initialization:\n",
    "rf = RandomForestClassifier(n_estimators=500, max_depth=7)#, class_weight='balanced')\n",
    "\n",
    "#Y_predicted = cross_val_predict(rf, X, Y, cv=10)\n",
    "#confusion_matrix(y_true=Y, y_pred=Y_predicted)"
   ]
  },
  {
   "cell_type": "code",
   "execution_count": 23,
   "metadata": {
    "collapsed": false
   },
   "outputs": [
    {
     "name": "stdout",
     "output_type": "stream",
     "text": [
      "0.64444097935\n",
      "7.14597816345e-05\n"
     ]
    }
   ],
   "source": [
    "scores = cross_val_score(rf, X, Y, scoring='roc_auc', cv=10)\n",
    "\n",
    "mean_score = np.mean(scores)\n",
    "print(mean_score)\n",
    "var_score = np.var(scores)\n",
    "print(var_score)"
   ]
  },
  {
   "cell_type": "code",
   "execution_count": 24,
   "metadata": {
    "collapsed": false
   },
   "outputs": [
    {
     "data": {
      "image/png": "[encoded data removed]",
      "text/plain": [
       "<matplotlib.figure.Figure at 0x1879015d048>"
      ]
     },
     "metadata": {},
     "output_type": "display_data"
    }
   ],
   "source": [
    "#Feature Importance\n",
    "\n",
    "rf.fit(X,Y)\n",
    "importances = rf.feature_importances_\n",
    "std = np.std([tree.feature_importances_ for tree in rf.estimators_],axis=0)\n",
    "indices = np.argsort(importances)[::-1]\n",
    "\n",
    "\n",
    "# Plot the feature importances of the forest\n",
    "f = np.asarray(X.columns.tolist())\n",
    "\n",
    "plt.figure()\n",
    "plt.title(\"Feature importances\")\n",
    "plt.bar(range(X.shape[1]), importances[indices], color=\"r\", yerr=std[indices], align=\"center\")\n",
    "plt.xticks(range(X.shape[1]), indices)\n",
    "plt.xlim([-1, X.shape[1]])\n",
    "fig = plt.gcf()\n",
    "fig.set_size_inches(16, 9)\n",
    "plt.show()"
   ]
  },
  {
   "cell_type": "code",
   "execution_count": 32,
   "metadata": {
    "collapsed": false
   },
   "outputs": [
    {
     "data": {
      "text/plain": [
       "array(['SubmissionNumber', 'logTimeSinceLast', 'Diff_Prob_Ini',\n",
       "       'NForumEvents', 'NumberOfThreadViews', 'ProblemID',\n",
       "       'Exp_Prob_GradeDiff', 'Diff_Prob_Fin', 'DurationOfVideoActivity',\n",
       "       'NVideoEvents', 'AverageVideoTimeDiffs', 'DifferentVideos',\n",
       "       'ForumActivity', 'NumberOfUpvotes'], \n",
       "      dtype='<U23')"
      ]
     },
     "execution_count": 32,
     "metadata": {},
     "output_type": "execute_result"
    }
   ],
   "source": [
    "f[[indices]]"
   ]
  },
  {
   "cell_type": "code",
   "execution_count": 5,
   "metadata": {
    "collapsed": true
   },
   "outputs": [],
   "source": [
    "X2 = X.ix[:,['SubmissionNumber', 'logTimeSinceLast', 'Diff_Prob_Ini']]"
   ]
  },
  {
   "cell_type": "code",
   "execution_count": 47,
   "metadata": {
    "collapsed": false
   },
   "outputs": [
    {
     "name": "stdout",
     "output_type": "stream",
     "text": [
      "0.642481364242\n",
      "6.03196800742e-05\n"
     ]
    }
   ],
   "source": [
    "scores = cross_val_score(rf, X2, Y, scoring='roc_auc', cv=10)\n",
    "\n",
    "mean_score = np.mean(scores)\n",
    "print(mean_score)\n",
    "var_score = np.var(scores)\n",
    "print(var_score)"
   ]
  },
  {
   "cell_type": "markdown",
   "metadata": {},
   "source": [
    "## 2.Neural Networks"
   ]
  },
  {
   "cell_type": "code",
   "execution_count": 33,
   "metadata": {
    "collapsed": true
   },
   "outputs": [],
   "source": [
    "from sklearn.neural_network import MLPClassifier"
   ]
  },
  {
   "cell_type": "code",
   "execution_count": 34,
   "metadata": {
    "collapsed": false
   },
   "outputs": [],
   "source": [
    "#Initialization:\n",
    "nn = MLPClassifier(activation='logistic',hidden_layer_sizes=(1000,100))"
   ]
  },
  {
   "cell_type": "code",
   "execution_count": 35,
   "metadata": {
    "collapsed": false
   },
   "outputs": [
    {
     "name": "stdout",
     "output_type": "stream",
     "text": [
      "0.630144870492\n",
      "6.08263923083e-05\n"
     ]
    }
   ],
   "source": [
    "scores = cross_val_score(nn, X, Y, scoring='roc_auc', cv=5)\n",
    "mean_score = np.mean(scores)\n",
    "print(mean_score)\n",
    "var_score = np.var(scores)\n",
    "print(var_score)"
   ]
  },
  {
   "cell_type": "code",
   "execution_count": 49,
   "metadata": {
    "collapsed": false
   },
   "outputs": [
    {
     "name": "stdout",
     "output_type": "stream",
     "text": [
      "0.613366126743\n",
      "7.16698903384e-05\n"
     ]
    }
   ],
   "source": [
    "scores = cross_val_score(nn, X2, Y, scoring='roc_auc', cv=5)\n",
    "mean_score = np.mean(scores)\n",
    "print(mean_score)\n",
    "var_score = np.var(scores)\n",
    "print(var_score)"
   ]
  },
  {
   "cell_type": "code",
   "execution_count": null,
   "metadata": {
    "collapsed": true
   },
   "outputs": [],
   "source": []
  },
  {
   "cell_type": "code",
   "execution_count": null,
   "metadata": {
    "collapsed": false
   },
   "outputs": [],
   "source": [
    "# #Balancing classes -> No improvement\n",
    "# X['label'] = Y\n",
    "# X0 = X.query('label==0')\n",
    "# X1 = X.query('label==1')\n",
    "# X = X.drop('label',axis=1)\n",
    "# X_b = pd.concat([X1.ix[0:14000,:],X0.ix[0:14000,:]])\n",
    "# X_b.iloc[np.random.permutation(len(X_b))]\n",
    "# Y_b = X_b.label\n",
    "# X_b = X_b.drop('label',axis=1)\n",
    "\n",
    "# scores = cross_val_score(nn, X_b, Y_b, scoring='roc_auc', cv=5)\n",
    "# mean_score = np.mean(scores)\n",
    "# print(mean_score)\n",
    "# var_score = np.var(scores)\n",
    "# print(var_score)"
   ]
  },
  {
   "cell_type": "code",
   "execution_count": null,
   "metadata": {
    "collapsed": true
   },
   "outputs": [],
   "source": []
  },
  {
   "cell_type": "code",
   "execution_count": 59,
   "metadata": {
    "collapsed": true
   },
   "outputs": [],
   "source": [
    "#Initialization:\n",
    "nn = MLPClassifier(activation='logistic',hidden_layer_sizes=(40,10),learning_rate_init=0.001)"
   ]
  },
  {
   "cell_type": "code",
   "execution_count": 60,
   "metadata": {
    "collapsed": false
   },
   "outputs": [
    {
     "name": "stdout",
     "output_type": "stream",
     "text": [
      "0.631494468946\n",
      "5.88194960379e-05\n"
     ]
    }
   ],
   "source": [
    "scores = cross_val_score(nn, X, Y, scoring='roc_auc', cv=5)\n",
    "mean_score = np.mean(scores)\n",
    "print(mean_score)\n",
    "var_score = np.var(scores)\n",
    "print(var_score)"
   ]
  },
  {
   "cell_type": "code",
   "execution_count": 58,
   "metadata": {
    "collapsed": false
   },
   "outputs": [
    {
     "name": "stdout",
     "output_type": "stream",
     "text": [
      "0.622313174653\n",
      "4.25949389478e-05\n"
     ]
    }
   ],
   "source": [
    "scores = cross_val_score(nn, X2, Y, scoring='roc_auc', cv=5)\n",
    "mean_score = np.mean(scores)\n",
    "print(mean_score)\n",
    "var_score = np.var(scores)\n",
    "print(var_score)"
   ]
  },
  {
   "cell_type": "code",
   "execution_count": null,
   "metadata": {
    "collapsed": true
   },
   "outputs": [],
   "source": []
  },
  {
   "cell_type": "code",
   "execution_count": 38,
   "metadata": {
    "collapsed": true
   },
   "outputs": [],
   "source": [
    "#Initialization:\n",
    "nn = MLPClassifier(activation='logistic',hidden_layer_sizes=(200,40,10))"
   ]
  },
  {
   "cell_type": "code",
   "execution_count": 39,
   "metadata": {
    "collapsed": false
   },
   "outputs": [],
   "source": [
    "#Learning curve\n",
    "train_sizes, train_scores, test_scores = learning_curve(nn, X, Y,\n",
    "                                                        train_sizes=np.array([ 0.1, 0.33, 0.55, 0.78, 1. ]),\n",
    "                                                        cv=5, scoring='roc_auc', exploit_incremental_learning=True)\n",
    "\n"
   ]
  },
  {
   "cell_type": "code",
   "execution_count": 40,
   "metadata": {
    "collapsed": false
   },
   "outputs": [
    {
     "data": {
      "image/png": "[encoded data removed]",
      "text/plain": [
       "<matplotlib.figure.Figure at 0x187931b0400>"
      ]
     },
     "metadata": {},
     "output_type": "display_data"
    }
   ],
   "source": [
    "# Plotting\n",
    "train_scores_mean = np.mean(train_scores, axis=1)\n",
    "train_scores_std = np.std(train_scores, axis=1)\n",
    "test_scores_mean = np.mean(test_scores, axis=1)\n",
    "test_scores_std = np.std(test_scores, axis=1)\n",
    "\n",
    "plt.fill_between(train_sizes, train_scores_mean - train_scores_std,\n",
    "                     train_scores_mean + train_scores_std, alpha=0.1,\n",
    "                     color=\"r\")\n",
    "plt.fill_between(train_sizes, test_scores_mean - test_scores_std,\n",
    "                     test_scores_mean + test_scores_std, alpha=0.1, color=\"g\")\n",
    "plt.plot(train_sizes, train_scores_mean, 'o-', color=\"r\",\n",
    "             label=\"Training score\")\n",
    "plt.plot(train_sizes, test_scores_mean, 'o-', color=\"g\",\n",
    "             label=\"Cross-validation score\")\n",
    "plt.show()"
   ]
  },
  {
   "cell_type": "markdown",
   "metadata": {},
   "source": [
    "There is still plenty to learn, but not enough data!"
   ]
  },
  {
   "cell_type": "code",
   "execution_count": null,
   "metadata": {
    "collapsed": true
   },
   "outputs": [],
   "source": []
  },
  {
   "cell_type": "code",
   "execution_count": 41,
   "metadata": {
    "collapsed": false
   },
   "outputs": [
    {
     "data": {
      "image/png": "[encoded data removed]",
      "text/plain": [
       "<matplotlib.figure.Figure at 0x187908c4dd8>"
      ]
     },
     "metadata": {},
     "output_type": "display_data"
    }
   ],
   "source": [
    "#Initialization:\n",
    "nn = MLPClassifier(activation='logistic',hidden_layer_sizes=(200,40,10), \n",
    "                   #learning_rate='adaptive', learning_rate_init=0.001,\n",
    "                   alpha=0,tol=1e-4,batch_size=10)\n",
    "\n",
    "#Learning curve\n",
    "train_sizes, train_scores, test_scores = learning_curve(nn, stats.zscore(X), Y,\n",
    "                                                        train_sizes=np.array([ 0.1, 0.33, 0.55, 0.78, 1. ]),\n",
    "                                                        cv=5, scoring='roc_auc', exploit_incremental_learning=True)\n",
    "\n",
    "# Plotting\n",
    "train_scores_mean = np.mean(train_scores, axis=1)\n",
    "train_scores_std = np.std(train_scores, axis=1)\n",
    "test_scores_mean = np.mean(test_scores, axis=1)\n",
    "test_scores_std = np.std(test_scores, axis=1)\n",
    "\n",
    "plt.fill_between(train_sizes, train_scores_mean - train_scores_std,\n",
    "                     train_scores_mean + train_scores_std, alpha=0.1,\n",
    "                     color=\"r\")\n",
    "plt.fill_between(train_sizes, test_scores_mean - test_scores_std,\n",
    "                     test_scores_mean + test_scores_std, alpha=0.1, color=\"g\")\n",
    "plt.plot(train_sizes, train_scores_mean, 'o-', color=\"r\",\n",
    "             label=\"Training score\")\n",
    "plt.plot(train_sizes, test_scores_mean, 'o-', color=\"g\",\n",
    "             label=\"Cross-validation score\")\n",
    "plt.show()"
   ]
  },
  {
   "cell_type": "markdown",
   "metadata": {},
   "source": [
    "Improvement with zscore"
   ]
  },
  {
   "cell_type": "code",
   "execution_count": null,
   "metadata": {
    "collapsed": true
   },
   "outputs": [],
   "source": []
  },
  {
   "cell_type": "code",
   "execution_count": null,
   "metadata": {
    "collapsed": true
   },
   "outputs": [],
   "source": []
  },
  {
   "cell_type": "code",
   "execution_count": 42,
   "metadata": {
    "collapsed": false
   },
   "outputs": [
    {
     "data": {
      "image/png": "[encoded data removed]",
      "text/plain": [
       "<matplotlib.figure.Figure at 0x187908f32b0>"
      ]
     },
     "metadata": {},
     "output_type": "display_data"
    }
   ],
   "source": [
    "#Initialization:\n",
    "nn = MLPClassifier(activation='logistic',hidden_layer_sizes=(40,10), \n",
    "                   learning_rate_init=0.04, learning_rate='adaptive',\n",
    "                   alpha=0.00001,tol=1e-10,batch_size=100)\n",
    "\n",
    "#Learning curve\n",
    "train_sizes, train_scores, test_scores = learning_curve(nn, stats.zscore(minmax_scale(X)), Y,\n",
    "                                                        train_sizes=np.array([ 0.1, 0.33, 0.55, 0.78, 1. ]),\n",
    "                                                        cv=5, scoring='roc_auc', exploit_incremental_learning=True)\n",
    "\n",
    "# Plotting\n",
    "train_scores_mean = np.mean(train_scores, axis=1)\n",
    "train_scores_std = np.std(train_scores, axis=1)\n",
    "test_scores_mean = np.mean(test_scores, axis=1)\n",
    "test_scores_std = np.std(test_scores, axis=1)\n",
    "\n",
    "plt.fill_between(train_sizes, train_scores_mean - train_scores_std,\n",
    "                     train_scores_mean + train_scores_std, alpha=0.1,\n",
    "                     color=\"r\")\n",
    "plt.fill_between(train_sizes, test_scores_mean - test_scores_std,\n",
    "                     test_scores_mean + test_scores_std, alpha=0.1, color=\"g\")\n",
    "plt.plot(train_sizes, train_scores_mean, 'o-', color=\"r\",\n",
    "             label=\"Training score\")\n",
    "plt.plot(train_sizes, test_scores_mean, 'o-', color=\"g\",\n",
    "             label=\"Cross-validation score\")\n",
    "plt.show()"
   ]
  },
  {
   "cell_type": "markdown",
   "metadata": {
    "collapsed": true
   },
   "source": [
    "Improvement with zscore after minmax_scale"
   ]
  },
  {
   "cell_type": "markdown",
   "metadata": {},
   "source": [
    "## 4. K-NN"
   ]
  },
  {
   "cell_type": "code",
   "execution_count": 7,
   "metadata": {
    "collapsed": true
   },
   "outputs": [],
   "source": [
    "from sklearn.neighbors import KNeighborsClassifier"
   ]
  },
  {
   "cell_type": "code",
   "execution_count": 44,
   "metadata": {
    "collapsed": false
   },
   "outputs": [
    {
     "name": "stdout",
     "output_type": "stream",
     "text": [
      "0.635205934637\n",
      "5.08578890396e-05\n"
     ]
    }
   ],
   "source": [
    "#Initialization:\n",
    "knn = KNeighborsClassifier(n_neighbors=201, algorithm='auto',weights='uniform',leaf_size=50)\n",
    "\n",
    "scores = cross_val_score(knn, X, Y, scoring='roc_auc', cv=5)\n",
    "mean_score = np.mean(scores)\n",
    "print(mean_score)\n",
    "var_score = np.var(scores)\n",
    "print(var_score)"
   ]
  },
  {
   "cell_type": "code",
   "execution_count": 50,
   "metadata": {
    "collapsed": false
   },
   "outputs": [
    {
     "name": "stdout",
     "output_type": "stream",
     "text": [
      "0.636390197102\n",
      "4.16657426986e-05\n"
     ]
    }
   ],
   "source": [
    "scores = cross_val_score(knn, X2, Y, scoring='roc_auc', cv=5)\n",
    "mean_score = np.mean(scores)\n",
    "print(mean_score)\n",
    "var_score = np.var(scores)\n",
    "print(var_score)"
   ]
  },
  {
   "cell_type": "code",
   "execution_count": 8,
   "metadata": {
    "collapsed": false
   },
   "outputs": [
    {
     "data": {
      "image/png": "[encoded data removed]",
      "text/plain": [
       "<matplotlib.figure.Figure at 0x116af6f28>"
      ]
     },
     "metadata": {},
     "output_type": "display_data"
    }
   ],
   "source": [
    "def roc_ploting(classifier, X, Y ):\n",
    "    cv = StratifiedKFold(n_splits=5)\n",
    "    mean_tpr = 0.0\n",
    "    mean_fpr = np.linspace(0, 1, 100)\n",
    "\n",
    "    colors = cycle(['cyan', 'indigo', 'seagreen', 'yellow', 'blue', 'darkorange','orange', 'red', 'purple', 'magenta'])\n",
    "    lw = 2\n",
    "\n",
    "    i = 0\n",
    "    for (train, test), color in zip(cv.split(X, Y), colors):\n",
    "        probas_ = classifier.fit(X.iloc[train], Y.iloc[train]).predict_proba(X.iloc[test])\n",
    "        # Compute ROC curve and area the curve\n",
    "        fpr, tpr, thresholds = roc_curve(Y.iloc[test], probas_[:, 1])\n",
    "        mean_tpr += interp(mean_fpr, fpr, tpr)\n",
    "        mean_tpr[0] = 0.0\n",
    "        roc_auc = auc(fpr, tpr)\n",
    "        plt.plot(fpr, tpr, lw=lw, color=color,\n",
    "                 label='ROC fold %d (area = %0.2f)' % (i, roc_auc))\n",
    "\n",
    "        i += 1\n",
    "    plt.plot([0, 1], [0, 1], linestyle='--', lw=lw, color='k',\n",
    "             label='Luck')\n",
    "\n",
    "    mean_tpr /= cv.get_n_splits(X, Y)\n",
    "    mean_tpr[-1] = 1.0\n",
    "    mean_auc = auc(mean_fpr, mean_tpr)\n",
    "    plt.plot(mean_fpr, mean_tpr, color='g', linestyle='--',\n",
    "             label='Mean ROC (area = %0.2f)' % mean_auc, lw=lw)\n",
    "\n",
    "    plt.xlim([-0.05, 1.05])\n",
    "    plt.ylim([-0.05, 1.05])\n",
    "    plt.xlabel('False Positive Rate')\n",
    "    plt.ylabel('True Positive Rate')\n",
    "    plt.title('Receiver operating characteristic')\n",
    "    plt.legend(loc=\"lower right\")\n",
    "    plt.show()\n",
    "\n",
    "knn = KNeighborsClassifier(n_neighbors=201, algorithm='auto',weights='uniform',leaf_size=50)\n",
    "\n",
    "roc_ploting(knn, X, Y)"
   ]
  },
  {
   "cell_type": "markdown",
   "metadata": {},
   "source": [
    "## Generate labels:"
   ]
  },
  {
   "cell_type": "code",
   "execution_count": 135,
   "metadata": {
    "collapsed": false
   },
   "outputs": [],
   "source": [
    "#Load\n",
    "dataset = pd.DataFrame.from_csv('OutputTable_test.csv')\n",
    "\n",
    "#Clean\n",
    "dataset = dataset.reset_index()\n",
    "dataset = dataset.drop('uniqRowID_2', axis=1)\n",
    "dataset = dataset.set_index('uniqRowID_1')\n",
    "\n",
    "X_test = dataset.copy()\n",
    "\n",
    "#Separate features and labels\n",
    "X_test = X_test.drop(['GradeDiff','TimeSinceLast'], axis=1)"
   ]
  },
  {
   "cell_type": "code",
   "execution_count": 136,
   "metadata": {
    "collapsed": false
   },
   "outputs": [
    {
     "data": {
      "text/plain": [
       "(18888, 14)"
      ]
     },
     "execution_count": 136,
     "metadata": {},
     "output_type": "execute_result"
    }
   ],
   "source": [
    "X_test.shape"
   ]
  },
  {
   "cell_type": "code",
   "execution_count": 137,
   "metadata": {
    "collapsed": false
   },
   "outputs": [
    {
     "data": {
      "text/plain": [
       "Index(['ProblemID', 'SubmissionNumber', 'NVideoEvents', 'NForumEvents',\n",
       "       'AverageVideoTimeDiffs', 'ForumActivity', 'DifferentVideos',\n",
       "       'NumberOfUpvotes', 'DurationOfVideoActivity', 'NumberOfThreadViews',\n",
       "       'Diff_Prob_Ini', 'Diff_Prob_Fin', 'Exp_Prob_GradeDiff',\n",
       "       'logTimeSinceLast'],\n",
       "      dtype='object')"
      ]
     },
     "execution_count": 137,
     "metadata": {},
     "output_type": "execute_result"
    }
   ],
   "source": [
    "X_test.columns"
   ]
  },
  {
   "cell_type": "code",
   "execution_count": 139,
   "metadata": {
    "collapsed": true
   },
   "outputs": [],
   "source": [
    "X_test2 = X_test.ix[:,['SubmissionNumber', 'logTimeSinceLast', 'Diff_Prob_Ini']]"
   ]
  },
  {
   "cell_type": "code",
   "execution_count": 140,
   "metadata": {
    "collapsed": false
   },
   "outputs": [],
   "source": [
    "# Defining the models\n",
    "knn = KNeighborsClassifier(n_neighbors=201, algorithm='auto',weights='uniform',leaf_size=50)\n",
    "\n",
    "rf = RandomForestClassifier(n_estimators=500, max_depth=7)\n",
    "\n",
    "nn = MLPClassifier(activation='logistic',hidden_layer_sizes=(40,10),learning_rate_init=0.001)"
   ]
  },
  {
   "cell_type": "code",
   "execution_count": 141,
   "metadata": {
    "collapsed": false
   },
   "outputs": [],
   "source": [
    "# Building a Meta-model\n",
    "Y_predicted = list()\n",
    "for classifier in [nn,knn,rf]:\n",
    "    classifier.fit(X2,Y)\n",
    "    Y_predicted.append(classifier.predict(X_test2))\n",
    "    \n",
    "Y_vote = stats.mode(np.array(Y_predicted))[0]"
   ]
  },
  {
   "cell_type": "markdown",
   "metadata": {},
   "source": [
    "Select exactly what we want"
   ]
  },
  {
   "cell_type": "code",
   "execution_count": 142,
   "metadata": {
    "collapsed": false
   },
   "outputs": [
    {
     "data": {
      "text/html": [
       "<div>\n",
       "<table border=\"1\" class=\"dataframe\">\n",
       "  <thead>\n",
       "    <tr style=\"text-align: right;\">\n",
       "      <th></th>\n",
       "      <th>SubmissionNumber</th>\n",
       "      <th>logTimeSinceLast</th>\n",
       "      <th>Diff_Prob_Ini</th>\n",
       "      <th>improved</th>\n",
       "    </tr>\n",
       "    <tr>\n",
       "      <th>uniqRowID_1</th>\n",
       "      <th></th>\n",
       "      <th></th>\n",
       "      <th></th>\n",
       "      <th></th>\n",
       "    </tr>\n",
       "  </thead>\n",
       "  <tbody>\n",
       "    <tr>\n",
       "      <th>5b8b14f8786cdb2e76c58313219eab2a_0_1</th>\n",
       "      <td>1</td>\n",
       "      <td>5.420535</td>\n",
       "      <td>83.973128</td>\n",
       "      <td>1</td>\n",
       "    </tr>\n",
       "    <tr>\n",
       "      <th>5b8b14f8786cdb2e76c58313219eab2a_0_2</th>\n",
       "      <td>2</td>\n",
       "      <td>4.962845</td>\n",
       "      <td>83.973128</td>\n",
       "      <td>1</td>\n",
       "    </tr>\n",
       "    <tr>\n",
       "      <th>f458d6460e49ea8fddd02502a554d9f4_0_1</th>\n",
       "      <td>1</td>\n",
       "      <td>5.826000</td>\n",
       "      <td>83.973128</td>\n",
       "      <td>1</td>\n",
       "    </tr>\n",
       "    <tr>\n",
       "      <th>1f3cf1cc6de39a680480ad36534f5cab_0_1</th>\n",
       "      <td>1</td>\n",
       "      <td>12.462806</td>\n",
       "      <td>83.973128</td>\n",
       "      <td>1</td>\n",
       "    </tr>\n",
       "    <tr>\n",
       "      <th>1f3cf1cc6de39a680480ad36534f5cab_0_2</th>\n",
       "      <td>2</td>\n",
       "      <td>5.587249</td>\n",
       "      <td>83.973128</td>\n",
       "      <td>1</td>\n",
       "    </tr>\n",
       "  </tbody>\n",
       "</table>\n",
       "</div>"
      ],
      "text/plain": [
       "                                      SubmissionNumber  logTimeSinceLast  \\\n",
       "uniqRowID_1                                                                \n",
       "5b8b14f8786cdb2e76c58313219eab2a_0_1                 1          5.420535   \n",
       "5b8b14f8786cdb2e76c58313219eab2a_0_2                 2          4.962845   \n",
       "f458d6460e49ea8fddd02502a554d9f4_0_1                 1          5.826000   \n",
       "1f3cf1cc6de39a680480ad36534f5cab_0_1                 1         12.462806   \n",
       "1f3cf1cc6de39a680480ad36534f5cab_0_2                 2          5.587249   \n",
       "\n",
       "                                      Diff_Prob_Ini  improved  \n",
       "uniqRowID_1                                                    \n",
       "5b8b14f8786cdb2e76c58313219eab2a_0_1      83.973128         1  \n",
       "5b8b14f8786cdb2e76c58313219eab2a_0_2      83.973128         1  \n",
       "f458d6460e49ea8fddd02502a554d9f4_0_1      83.973128         1  \n",
       "1f3cf1cc6de39a680480ad36534f5cab_0_1      83.973128         1  \n",
       "1f3cf1cc6de39a680480ad36534f5cab_0_2      83.973128         1  "
      ]
     },
     "execution_count": 142,
     "metadata": {},
     "output_type": "execute_result"
    }
   ],
   "source": [
    "X_test2['improved'] = Y_predicted[2] # Y_vote[0] or Y_predicted[i]\n",
    "X_test2.head()"
   ]
  },
  {
   "cell_type": "code",
   "execution_count": 143,
   "metadata": {
    "collapsed": false
   },
   "outputs": [
    {
     "data": {
      "text/html": [
       "<div>\n",
       "<table border=\"1\" class=\"dataframe\">\n",
       "  <thead>\n",
       "    <tr style=\"text-align: right;\">\n",
       "      <th></th>\n",
       "      <th>improved</th>\n",
       "    </tr>\n",
       "    <tr>\n",
       "      <th>uniqRowID</th>\n",
       "      <th></th>\n",
       "    </tr>\n",
       "  </thead>\n",
       "  <tbody>\n",
       "    <tr>\n",
       "      <th>3038c17eb0ce9931fc27ac6e015ced6d_0_1</th>\n",
       "      <td>0</td>\n",
       "    </tr>\n",
       "    <tr>\n",
       "      <th>ba0fcffcfcea8c810970dfa4509cbc9c_0_1</th>\n",
       "      <td>0</td>\n",
       "    </tr>\n",
       "    <tr>\n",
       "      <th>9c5e154703a328527aec012787418b32_0_1</th>\n",
       "      <td>0</td>\n",
       "    </tr>\n",
       "    <tr>\n",
       "      <th>95a8908e60888df3c52d999a3977d595_0_5</th>\n",
       "      <td>0</td>\n",
       "    </tr>\n",
       "    <tr>\n",
       "      <th>17b46a6f879253c70ea7aaba260f417c_0_2</th>\n",
       "      <td>0</td>\n",
       "    </tr>\n",
       "  </tbody>\n",
       "</table>\n",
       "</div>"
      ],
      "text/plain": [
       "                                      improved\n",
       "uniqRowID                                     \n",
       "3038c17eb0ce9931fc27ac6e015ced6d_0_1         0\n",
       "ba0fcffcfcea8c810970dfa4509cbc9c_0_1         0\n",
       "9c5e154703a328527aec012787418b32_0_1         0\n",
       "95a8908e60888df3c52d999a3977d595_0_5         0\n",
       "17b46a6f879253c70ea7aaba260f417c_0_2         0"
      ]
     },
     "execution_count": 143,
     "metadata": {},
     "output_type": "execute_result"
    }
   ],
   "source": [
    "X_test3 = pd.DataFrame.from_csv('classifier_sampleResults.csv')\n",
    "X_test3.head()"
   ]
  },
  {
   "cell_type": "code",
   "execution_count": 144,
   "metadata": {
    "collapsed": false
   },
   "outputs": [
    {
     "data": {
      "text/html": [
       "<div>\n",
       "<table border=\"1\" class=\"dataframe\">\n",
       "  <thead>\n",
       "    <tr style=\"text-align: right;\">\n",
       "      <th></th>\n",
       "      <th>uniqRowID</th>\n",
       "      <th>improved</th>\n",
       "    </tr>\n",
       "  </thead>\n",
       "  <tbody>\n",
       "    <tr>\n",
       "      <th>3038c17eb0ce9931fc27ac6e015ced6d_0_1</th>\n",
       "      <td>3038c17eb0ce9931fc27ac6e015ced6d_0_1</td>\n",
       "      <td>1</td>\n",
       "    </tr>\n",
       "    <tr>\n",
       "      <th>ba0fcffcfcea8c810970dfa4509cbc9c_0_1</th>\n",
       "      <td>ba0fcffcfcea8c810970dfa4509cbc9c_0_1</td>\n",
       "      <td>1</td>\n",
       "    </tr>\n",
       "    <tr>\n",
       "      <th>9c5e154703a328527aec012787418b32_0_1</th>\n",
       "      <td>9c5e154703a328527aec012787418b32_0_1</td>\n",
       "      <td>1</td>\n",
       "    </tr>\n",
       "    <tr>\n",
       "      <th>95a8908e60888df3c52d999a3977d595_0_5</th>\n",
       "      <td>95a8908e60888df3c52d999a3977d595_0_5</td>\n",
       "      <td>0</td>\n",
       "    </tr>\n",
       "    <tr>\n",
       "      <th>17b46a6f879253c70ea7aaba260f417c_0_2</th>\n",
       "      <td>17b46a6f879253c70ea7aaba260f417c_0_2</td>\n",
       "      <td>1</td>\n",
       "    </tr>\n",
       "  </tbody>\n",
       "</table>\n",
       "</div>"
      ],
      "text/plain": [
       "                                                                 uniqRowID  \\\n",
       "3038c17eb0ce9931fc27ac6e015ced6d_0_1  3038c17eb0ce9931fc27ac6e015ced6d_0_1   \n",
       "ba0fcffcfcea8c810970dfa4509cbc9c_0_1  ba0fcffcfcea8c810970dfa4509cbc9c_0_1   \n",
       "9c5e154703a328527aec012787418b32_0_1  9c5e154703a328527aec012787418b32_0_1   \n",
       "95a8908e60888df3c52d999a3977d595_0_5  95a8908e60888df3c52d999a3977d595_0_5   \n",
       "17b46a6f879253c70ea7aaba260f417c_0_2  17b46a6f879253c70ea7aaba260f417c_0_2   \n",
       "\n",
       "                                      improved  \n",
       "3038c17eb0ce9931fc27ac6e015ced6d_0_1         1  \n",
       "ba0fcffcfcea8c810970dfa4509cbc9c_0_1         1  \n",
       "9c5e154703a328527aec012787418b32_0_1         1  \n",
       "95a8908e60888df3c52d999a3977d595_0_5         0  \n",
       "17b46a6f879253c70ea7aaba260f417c_0_2         1  "
      ]
     },
     "execution_count": 144,
     "metadata": {},
     "output_type": "execute_result"
    }
   ],
   "source": [
    "index1 = X_test2.index.intersection(X_test3.index)\n",
    "\n",
    "predictions = X_test2.loc[index1][['improved']]\n",
    "predictions['uniqRowID'] = predictions.index\n",
    "predictions = predictions[['uniqRowID','improved']]\n",
    "predictions.head()"
   ]
  },
  {
   "cell_type": "code",
   "execution_count": 145,
   "metadata": {
    "collapsed": false
   },
   "outputs": [],
   "source": [
    "predictions.to_csv(path_or_buf='classifierResults.csv', sep=',', index=False, quoting=1)"
   ]
  },
  {
   "cell_type": "markdown",
   "metadata": {
    "collapsed": true
   },
   "source": [
    "#                                                                                                                                                                                                                                                                                                                                                                                                                                                                                                                                                                                                                                                                                                                                                                                                                                                                                                                                                                                                                                             \n",
    "\n",
    "#                                                                                                                                                                                                                                                                                                                                                                                                                                                                            \n",
    "\n",
    "#                                                                                                                                                                                                                                                                                                                                                                                "
   ]
  },
  {
   "cell_type": "markdown",
   "metadata": {},
   "source": [
    "## 4. Other Things"
   ]
  },
  {
   "cell_type": "markdown",
   "metadata": {},
   "source": [
    "We also tried with PCA, ICA, SVM (with different kernels), etc. But tried to keep the notebook as clean a possible removing what didn't really work"
   ]
  },
  {
   "cell_type": "code",
   "execution_count": null,
   "metadata": {
    "collapsed": false
   },
   "outputs": [],
   "source": [
    "from sklearn.decomposition import PCA\n",
    "pca = PCA(n_components=4)\n",
    "pca.fit(stats.zscore(minmax_scale(X)))\n",
    "print(pca.explained_variance_ratio_) \n",
    "X_pca = pca.fit_transform(stats.zscore(minmax_scale(X)))"
   ]
  },
  {
   "cell_type": "code",
   "execution_count": null,
   "metadata": {
    "collapsed": true
   },
   "outputs": [],
   "source": [
    "#Initialization:\n",
    "nn = MLPClassifier(activation='logistic',hidden_layer_sizes=(40,10), \n",
    "                   learning_rate_init=0.04, learning_rate='adaptive',\n",
    "                   alpha=0.00001,tol=1e-10,batch_size=100)"
   ]
  },
  {
   "cell_type": "code",
   "execution_count": null,
   "metadata": {
    "collapsed": true
   },
   "outputs": [],
   "source": [
    "#Learning curve\n",
    "train_sizes, train_scores, test_scores = learning_curve(nn, X_pca, Y,\n",
    "                                                        train_sizes=np.array([ 0.1, 0.33, 0.55, 0.78, 1. ]),\n",
    "                                                        cv=5, scoring='roc_auc', exploit_incremental_learning=True)\n"
   ]
  },
  {
   "cell_type": "code",
   "execution_count": null,
   "metadata": {
    "collapsed": false
   },
   "outputs": [],
   "source": [
    "train_scores_mean = np.mean(train_scores, axis=1)\n",
    "train_scores_std = np.std(train_scores, axis=1)\n",
    "test_scores_mean = np.mean(test_scores, axis=1)\n",
    "test_scores_std = np.std(test_scores, axis=1)\n",
    "\n",
    "plt.fill_between(train_sizes, train_scores_mean - train_scores_std,\n",
    "                     train_scores_mean + train_scores_std, alpha=0.1,\n",
    "                     color=\"r\")\n",
    "plt.fill_between(train_sizes, test_scores_mean - test_scores_std,\n",
    "                     test_scores_mean + test_scores_std, alpha=0.1, color=\"g\")\n",
    "plt.plot(train_sizes, train_scores_mean, 'o-', color=\"r\",\n",
    "             label=\"Training score\")\n",
    "plt.plot(train_sizes, test_scores_mean, 'o-', color=\"g\",\n",
    "             label=\"Cross-validation score\")\n",
    "plt.show()"
   ]
  },
  {
   "cell_type": "markdown",
   "metadata": {
    "collapsed": true
   },
   "source": [
    "### Gaussian Mixture"
   ]
  },
  {
   "cell_type": "code",
   "execution_count": null,
   "metadata": {
    "collapsed": true
   },
   "outputs": [],
   "source": [
    "from sklearn.mixture import GaussianMixture\n",
    "X['logTimeSinceLast'] = np.log(X.TimeSinceLast)\n",
    "n = 3\n",
    "GM = GaussianMixture(n_components = n , max_iter = 1000, n_init = 3)\n",
    "GM.fit( X.logTimeSinceLast.values.reshape((len(X.logTimeSinceLast.values),1)) )"
   ]
  },
  {
   "cell_type": "code",
   "execution_count": null,
   "metadata": {
    "collapsed": true
   },
   "outputs": [],
   "source": [
    "X['GaussianMixture'] = GM.predict( X.logTimeSinceLast.values.reshape((len(X.logTimeSinceLast.values),1))) \n",
    "X.head()"
   ]
  },
  {
   "cell_type": "code",
   "execution_count": null,
   "metadata": {
    "collapsed": true
   },
   "outputs": [],
   "source": [
    "def roc_ploting_multiclassifier(classifier, X, Y, normalize = True ):\n",
    "    number_fold = 5\n",
    "    cv = StratifiedKFold(n_splits = number_fold)\n",
    "    mean_tpr = 0.0\n",
    "    mean_fpr = np.linspace(0, 1, 100)\n",
    "\n",
    "    colors = cycle(['cyan', 'indigo', 'seagreen', 'yellow', 'blue', 'darkorange','orange', 'red', 'purple', 'magenta'])\n",
    "    lw = 2\n",
    "\n",
    "    i = 1\n",
    "    \n",
    "    zip_variables= zip(cv.split(X[X['GaussianMixture'] == 0], Y[X['GaussianMixture'] == 0]),\n",
    "                        cv.split(X[X['GaussianMixture'] == 1], Y[X['GaussianMixture'] == 1]),\n",
    "                        cv.split(X[X['GaussianMixture'] == 2], Y[X['GaussianMixture'] == 2]),\n",
    "                        colors)\n",
    "    X = X.drop('GaussianMixture', 1)\n",
    "    X = X.drop('TimeSinceLast', 1)\n",
    "    if normalize:\n",
    "        X = pd.DataFrame(stats.zscore(X), index = X.index, columns = X.columns)\n",
    "    for (train_0, test_0), (train_1, test_1), (train_2, test_2), color in zip_variables:\n",
    "        \n",
    "        probas_ = classifier.fit(X.iloc[train_0], Y.iloc[train_0]).predict_proba(X.iloc[test_0])\n",
    "        probas_ = np.concatenate((probas_, \n",
    "                                  classifier.fit(X.iloc[train_1], Y.iloc[train_1]).predict_proba(X.iloc[test_1])),\n",
    "                                 axis=0) \n",
    "        probas_ = np.concatenate((probas_, \n",
    "                                  classifier.fit(X.iloc[train_2], Y.iloc[train_2]).predict_proba(X.iloc[test_2])),\n",
    "                                 axis=0)\n",
    "        \n",
    "        tmp =  np.concatenate((test_0, test_1),\n",
    "                              axis=0)\n",
    "        tmp =  np.concatenate((tmp, test_2),\n",
    "                              axis=0)\n",
    "                                                                                         \n",
    "        # Compute ROC curve and area the curve\n",
    "        fpr, tpr, thresholds = roc_curve(Y.iloc[tmp], probas_[:, 1])\n",
    "        mean_tpr += interp(mean_fpr, fpr, tpr)\n",
    "        mean_tpr[0] = 0.0\n",
    "        roc_auc = auc(fpr, tpr)\n",
    "        plt.plot(fpr, tpr, lw=lw, color=color,\n",
    "                 label='ROC fold %d (area = %0.2f)' % (i, roc_auc))\n",
    "\n",
    "        i += 1\n",
    "    plt.plot([0, 1], [0, 1], linestyle='--', lw=lw, color='k',\n",
    "             label='Luck')\n",
    "\n",
    "    mean_tpr /= cv.get_n_splits(X, Y)\n",
    "    mean_tpr[-1] = 1.0\n",
    "    mean_auc = auc(mean_fpr, mean_tpr)\n",
    "    plt.plot(mean_fpr, mean_tpr, color='g', linestyle='--',\n",
    "             label='Mean ROC (area = %0.2f)' % mean_auc, lw=lw)\n",
    "\n",
    "    plt.xlim([-0.05, 1.05])\n",
    "    plt.ylim([-0.05, 1.05])\n",
    "    plt.xlabel('False Positive Rate')\n",
    "    plt.ylabel('True Positive Rate')\n",
    "    plt.title('Receiver operating characteristic')\n",
    "    plt.legend(loc=\"lower right\")\n",
    "    plt.show()"
   ]
  },
  {
   "cell_type": "code",
   "execution_count": null,
   "metadata": {
    "collapsed": true
   },
   "outputs": [],
   "source": [
    "#With Neuronal Networks\n",
    "roc_ploting_multiclassifier(MLPClassifier(activation = 'logistic', \n",
    "                                          hidden_layer_sizes = (40,10),\n",
    "                                          learning_rate_init = 0.04, \n",
    "                                          learning_rate = 'adaptive',\n",
    "                                          tol = 1e-10, batch_size = 100), \n",
    "                            X.copy(), \n",
    "                            Y)\n",
    "#With Random Forest\n",
    "roc_ploting_multiclassifier(RandomForestClassifier(n_estimators=500, \n",
    "                                                   max_depth = 7, \n",
    "                                                   class_weight = 'balanced'),\n",
    "                            X.copy(), \n",
    "                            Y, \n",
    "                            normalize = False)\n",
    "#With K-Nearest Neighbours\n",
    "roc_ploting_multiclassifier(KNeighborsClassifier(n_neighbors=201, \n",
    "                                                 algorithm='auto',\n",
    "                                                 weights='uniform',\n",
    "                                                 leaf_size=50),\n",
    "                            X.copy(),\n",
    "                            Y)"
   ]
  },
  {
   "cell_type": "markdown",
   "metadata": {},
   "source": [
    "### SVM Classifier"
   ]
  },
  {
   "cell_type": "code",
   "execution_count": null,
   "metadata": {
    "collapsed": true
   },
   "outputs": [],
   "source": [
    "#SVM Classifier with Linear Kernel\n",
    "roc_ploting_multiclassifier(SVC(kernel='linear', probability=True),\n",
    "                           X.copy(), Y)\n",
    "#With Radial Basis Function Kernel (rbf)\n",
    "roc_ploting_multiclassifier(SVC(kernel='rbf', probability=True),\n",
    "                           X.copy(), Y)\n",
    "#With Polynomial Kernel\n",
    "roc_ploting_multiclassifier(SVC(kernel='poly', probability=True),\n",
    "                           X.copy(), Y)"
   ]
  }
 ],
 "metadata": {
  "anaconda-cloud": {},
  "kernelspec": {
   "display_name": "Python [conda root]",
   "language": "python",
   "name": "conda-root-py"
  },
  "language_info": {
   "codemirror_mode": {
    "name": "ipython",
    "version": 3
   },
   "file_extension": ".py",
   "mimetype": "text/x-python",
   "name": "python",
   "nbconvert_exporter": "python",
   "pygments_lexer": "ipython3",
   "version": "3.5.2"
  }
 },
 "nbformat": 4,
 "nbformat_minor": 1
}
